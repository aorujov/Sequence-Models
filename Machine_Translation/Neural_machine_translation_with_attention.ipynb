{
 "cells": [
  {
   "cell_type": "markdown",
   "metadata": {},
   "source": [
    "# Neural Machine Translation\n",
    "\n",
    "Welcome to your first programming assignment for this week! \n",
    "\n",
    "You will build a Neural Machine Translation (NMT) model to translate human readable dates (\"25th of June, 2009\") into machine readable dates (\"2009-06-25\"). You will do this using an attention model, one of the most sophisticated sequence to sequence models. \n",
    "\n",
    "This notebook was produced together with NVIDIA's Deep Learning Institute. \n",
    "\n",
    "Let's load all the packages you will need for this assignment."
   ]
  },
  {
   "cell_type": "code",
   "execution_count": 1,
   "metadata": {},
   "outputs": [
    {
     "name": "stderr",
     "output_type": "stream",
     "text": [
      "C:\\Users\\abido\\Anaconda3\\lib\\site-packages\\h5py\\__init__.py:36: FutureWarning: Conversion of the second argument of issubdtype from `float` to `np.floating` is deprecated. In future, it will be treated as `np.float64 == np.dtype(float).type`.\n",
      "  from ._conv import register_converters as _register_converters\n",
      "Using TensorFlow backend.\n"
     ]
    }
   ],
   "source": [
    "from keras.layers import Bidirectional, Concatenate, Permute, Dot, Input, LSTM, Multiply\n",
    "from keras.layers import RepeatVector, Dense, Activation, Lambda\n",
    "from keras.optimizers import Adam\n",
    "from keras.utils import to_categorical\n",
    "from keras.models import load_model, Model\n",
    "import keras.backend as K\n",
    "import numpy as np\n",
    "\n",
    "from faker import Faker\n",
    "import random\n",
    "from tqdm import tqdm\n",
    "from babel.dates import format_date\n",
    "from nmt_utils import *\n",
    "import matplotlib.pyplot as plt\n",
    "%matplotlib inline"
   ]
  },
  {
   "cell_type": "markdown",
   "metadata": {},
   "source": [
    "## 1 - Translating human readable dates into machine readable dates\n",
    "\n",
    "The model you will build here could be used to translate from one language to another, such as translating from English to Hindi. However, language translation requires massive datasets and usually takes days of training on GPUs. To give you a place to experiment with these models even without using massive datasets, we will instead use a simpler \"date translation\" task. \n",
    "\n",
    "The network will input a date written in a variety of possible formats (*e.g. \"the 29th of August 1958\", \"03/30/1968\", \"24 JUNE 1987\"*) and translate them into standardized, machine readable dates (*e.g. \"1958-08-29\", \"1968-03-30\", \"1987-06-24\"*). We will have the network learn to output dates in the common machine-readable format YYYY-MM-DD. \n",
    "\n",
    "\n",
    "\n",
    "<!-- \n",
    "Take a look at [nmt_utils.py](./nmt_utils.py) to see all the formatting. Count and figure out how the formats work, you will need this knowledge later. !--> "
   ]
  },
  {
   "cell_type": "markdown",
   "metadata": {},
   "source": [
    "### 1.1 - Dataset\n",
    "\n",
    "We will train the model on a dataset of 10000 human readable dates and their equivalent, standardized, machine readable dates. Let's run the following cells to load the dataset and print some examples. "
   ]
  },
  {
   "cell_type": "code",
   "execution_count": 2,
   "metadata": {},
   "outputs": [
    {
     "name": "stderr",
     "output_type": "stream",
     "text": [
      "100%|█████████████████████████████████████████████████████████████████████████| 10000/10000 [00:00<00:00, 13529.03it/s]\n"
     ]
    }
   ],
   "source": [
    "m = 10000\n",
    "dataset, human_vocab, machine_vocab, inv_machine_vocab = load_dataset(m)"
   ]
  },
  {
   "cell_type": "code",
   "execution_count": 3,
   "metadata": {},
   "outputs": [
    {
     "data": {
      "text/plain": [
       "[('9 may 1998', '1998-05-09'),\n",
       " ('10.09.70', '1970-09-10'),\n",
       " ('4/28/90', '1990-04-28'),\n",
       " ('thursday january 26 1995', '1995-01-26'),\n",
       " ('monday march 7 1983', '1983-03-07'),\n",
       " ('sunday may 22 1988', '1988-05-22'),\n",
       " ('tuesday july 8 2008', '2008-07-08'),\n",
       " ('08 sep 1999', '1999-09-08'),\n",
       " ('1 jan 1981', '1981-01-01'),\n",
       " ('monday may 22 1995', '1995-05-22')]"
      ]
     },
     "execution_count": 3,
     "metadata": {},
     "output_type": "execute_result"
    }
   ],
   "source": [
    "dataset[:10]"
   ]
  },
  {
   "cell_type": "code",
   "execution_count": 4,
   "metadata": {},
   "outputs": [
    {
     "name": "stdout",
     "output_type": "stream",
     "text": [
      "  0\n",
      ". 1\n",
      "/ 2\n",
      "0 3\n",
      "1 4\n",
      "length of the human_vocab dictionary is 37\n"
     ]
    }
   ],
   "source": [
    "i = 0\n",
    "for k,v in human_vocab.items():\n",
    "    print(k,v)\n",
    "    i+=1\n",
    "    if i == 5:\n",
    "        break\n",
    "        \n",
    "print(\"length of the human_vocab dictionary is {}\".format(len(human_vocab)))"
   ]
  },
  {
   "cell_type": "code",
   "execution_count": 5,
   "metadata": {},
   "outputs": [
    {
     "name": "stdout",
     "output_type": "stream",
     "text": [
      "- 0\n",
      "0 1\n",
      "1 2\n",
      "2 3\n",
      "3 4\n",
      "length of the human_vocab dictionary is 11\n"
     ]
    }
   ],
   "source": [
    "i = 0\n",
    "for k,v in machine_vocab.items():\n",
    "    print(k,v)\n",
    "    i+=1\n",
    "    if i == 5:\n",
    "        break\n",
    "        \n",
    "print(\"length of the human_vocab dictionary is {}\".format(len(machine_vocab)))"
   ]
  },
  {
   "cell_type": "code",
   "execution_count": 6,
   "metadata": {},
   "outputs": [
    {
     "name": "stdout",
     "output_type": "stream",
     "text": [
      "0 -\n",
      "1 0\n",
      "2 1\n",
      "3 2\n",
      "4 3\n",
      "length of the human_vocab dictionary is 11\n"
     ]
    }
   ],
   "source": [
    "i = 0\n",
    "for k,v in inv_machine_vocab.items():\n",
    "    print(k,v)\n",
    "    i+=1\n",
    "    if i == 5:\n",
    "        break\n",
    "        \n",
    "print(\"length of the human_vocab dictionary is {}\".format(len(inv_machine_vocab)))"
   ]
  },
  {
   "cell_type": "markdown",
   "metadata": {},
   "source": [
    "You've loaded:\n",
    "- `dataset`: a list of tuples of (human readable date, machine readable date)\n",
    "- `human_vocab`: a python dictionary mapping all characters used in the human readable dates to an integer-valued index \n",
    "- `machine_vocab`: a python dictionary mapping all characters used in machine readable dates to an integer-valued index. These indices are not necessarily consistent with `human_vocab`. \n",
    "- `inv_machine_vocab`: the inverse dictionary of `machine_vocab`, mapping from indices back to characters. \n",
    "\n",
    "Let's preprocess the data and map the raw text data into the index values. We will also use Tx=30 (which we assume is the maximum length of the human readable date; if we get a longer input, we would have to truncate it) and Ty=10 (since \"YYYY-MM-DD\" is 10 characters long). "
   ]
  },
  {
   "cell_type": "code",
   "execution_count": 7,
   "metadata": {},
   "outputs": [
    {
     "name": "stdout",
     "output_type": "stream",
     "text": [
      "X.shape: (10000, 30)\n",
      "Y.shape: (10000, 10)\n",
      "Xoh.shape: (10000, 30, 37)\n",
      "Yoh.shape: (10000, 10, 11)\n"
     ]
    }
   ],
   "source": [
    "Tx = 30\n",
    "Ty = 10\n",
    "X, Y, Xoh, Yoh = preprocess_data(dataset, human_vocab, machine_vocab, Tx, Ty)\n",
    "\n",
    "print(\"X.shape:\", X.shape)\n",
    "print(\"Y.shape:\", Y.shape)\n",
    "print(\"Xoh.shape:\", Xoh.shape)\n",
    "print(\"Yoh.shape:\", Yoh.shape)"
   ]
  },
  {
   "cell_type": "code",
   "execution_count": 8,
   "metadata": {},
   "outputs": [
    {
     "name": "stdout",
     "output_type": "stream",
     "text": [
      "[12  0 24 13 34  0  4 12 12 11 36 36 36 36 36 36 36 36 36 36 36 36 36 36\n",
      " 36 36 36 36 36 36]\n"
     ]
    }
   ],
   "source": [
    "print(X[0])"
   ]
  },
  {
   "cell_type": "code",
   "execution_count": 9,
   "metadata": {},
   "outputs": [
    {
     "name": "stdout",
     "output_type": "stream",
     "text": [
      "[ 2 10 10  9  0  1  6  0  1 10]\n"
     ]
    }
   ],
   "source": [
    "print(Y[0])"
   ]
  },
  {
   "cell_type": "markdown",
   "metadata": {},
   "source": [
    "You now have:\n",
    "- `X`: a processed version of the human readable dates in the training set, where each character is replaced by an index mapped to the character via `human_vocab`. Each date is further padded to $T_x$ values with a special character (< pad >). `X.shape = (m, Tx)`\n",
    "- `Y`: a processed version of the machine readable dates in the training set, where each character is replaced by the index it is mapped to in `machine_vocab`. You should have `Y.shape = (m, Ty)`. \n",
    "- `Xoh`: one-hot version of `X`, the \"1\" entry's index is mapped to the character thanks to `human_vocab`. `Xoh.shape = (m, Tx, len(human_vocab))`\n",
    "- `Yoh`: one-hot version of `Y`, the \"1\" entry's index is mapped to the character thanks to `machine_vocab`. `Yoh.shape = (m, Tx, len(machine_vocab))`. Here, `len(machine_vocab) = 11` since there are 11 characters ('-' as well as 0-9). \n"
   ]
  },
  {
   "cell_type": "markdown",
   "metadata": {},
   "source": [
    "Lets also look at some examples of preprocessed training examples. Feel free to play with `index` in the cell below to navigate the dataset and see how source/target dates are preprocessed. "
   ]
  },
  {
   "cell_type": "code",
   "execution_count": 10,
   "metadata": {},
   "outputs": [
    {
     "name": "stdout",
     "output_type": "stream",
     "text": [
      "Source date: 9 may 1998\n",
      "Target date: 1998-05-09\n",
      "\n",
      "Source after preprocessing (indices): [12  0 24 13 34  0  4 12 12 11 36 36 36 36 36 36 36 36 36 36 36 36 36 36\n",
      " 36 36 36 36 36 36]\n",
      "Target after preprocessing (indices): [ 2 10 10  9  0  1  6  0  1 10]\n",
      "\n",
      "Source after preprocessing (one-hot): [[0. 0. 0. ... 0. 0. 0.]\n",
      " [1. 0. 0. ... 0. 0. 0.]\n",
      " [0. 0. 0. ... 0. 0. 0.]\n",
      " ...\n",
      " [0. 0. 0. ... 0. 0. 1.]\n",
      " [0. 0. 0. ... 0. 0. 1.]\n",
      " [0. 0. 0. ... 0. 0. 1.]]\n",
      "Target after preprocessing (one-hot): [[0. 0. 1. 0. 0. 0. 0. 0. 0. 0. 0.]\n",
      " [0. 0. 0. 0. 0. 0. 0. 0. 0. 0. 1.]\n",
      " [0. 0. 0. 0. 0. 0. 0. 0. 0. 0. 1.]\n",
      " [0. 0. 0. 0. 0. 0. 0. 0. 0. 1. 0.]\n",
      " [1. 0. 0. 0. 0. 0. 0. 0. 0. 0. 0.]\n",
      " [0. 1. 0. 0. 0. 0. 0. 0. 0. 0. 0.]\n",
      " [0. 0. 0. 0. 0. 0. 1. 0. 0. 0. 0.]\n",
      " [1. 0. 0. 0. 0. 0. 0. 0. 0. 0. 0.]\n",
      " [0. 1. 0. 0. 0. 0. 0. 0. 0. 0. 0.]\n",
      " [0. 0. 0. 0. 0. 0. 0. 0. 0. 0. 1.]]\n"
     ]
    }
   ],
   "source": [
    "index = 0\n",
    "print(\"Source date:\", dataset[index][0])\n",
    "print(\"Target date:\", dataset[index][1])\n",
    "print()\n",
    "print(\"Source after preprocessing (indices):\", X[index])\n",
    "print(\"Target after preprocessing (indices):\", Y[index])\n",
    "print()\n",
    "print(\"Source after preprocessing (one-hot):\", Xoh[index])\n",
    "print(\"Target after preprocessing (one-hot):\", Yoh[index])"
   ]
  },
  {
   "cell_type": "markdown",
   "metadata": {},
   "source": [
    "## 2 - Neural machine translation with attention\n",
    "\n",
    "If you had to translate a book's paragraph from French to English, you would not read the whole paragraph, then close the book and translate. Even during the translation process, you would read/re-read and focus on the parts of the French paragraph corresponding to the parts of the English you are writing down. \n",
    "\n",
    "The attention mechanism tells a Neural Machine Translation model where it should pay attention to at any step. \n",
    "\n",
    "\n",
    "### 2.1 - Attention mechanism\n",
    "\n",
    "In this part, you will implement the attention mechanism presented in the lecture videos. Here is a figure to remind you how the model works. The diagram on the left shows the attention model. The diagram on the right shows what one \"Attention\" step does to calculate the attention variables $\\alpha^{\\langle t, t' \\rangle}$, which are used to compute the context variable $context^{\\langle t \\rangle}$ for each timestep in the output ($t=1, \\ldots, T_y$). \n",
    "\n",
    "<table>\n",
    "<td> \n",
    "<img src=\"images/attn_model.png\" style=\"width:500;height:500px;\"> <br>\n",
    "</td> \n",
    "<td> \n",
    "<img src=\"images/attn_mechanism.png\" style=\"width:500;height:500px;\"> <br>\n",
    "</td> \n",
    "</table>\n",
    "<caption><center> **Figure 1**: Neural machine translation with attention</center></caption>\n"
   ]
  },
  {
   "cell_type": "markdown",
   "metadata": {},
   "source": [
    "\n",
    "Here are some properties of the model that you may notice: \n",
    "\n",
    "- There are two separate LSTMs in this model (see diagram on the left). Because the one at the bottom of the picture is a Bi-directional LSTM and comes *before* the attention mechanism, we will call it *pre-attention* Bi-LSTM. The LSTM at the top of the diagram comes *after* the attention mechanism, so we will call it the *post-attention* LSTM. The pre-attention Bi-LSTM goes through $T_x$ time steps; the post-attention LSTM goes through $T_y$ time steps. \n",
    "\n",
    "- The post-attention LSTM passes $s^{\\langle t \\rangle}, c^{\\langle t \\rangle}$ from one time step to the next. In the lecture videos, we were using only a basic RNN for the post-activation sequence model, so the state captured by the RNN output activations $s^{\\langle t\\rangle}$. But since we are using an LSTM here, the LSTM has both the output activation $s^{\\langle t\\rangle}$ and the hidden cell state $c^{\\langle t\\rangle}$. However, unlike previous text generation examples (such as Dinosaurus in week 1), in this model the post-activation LSTM at time $t$ does will not take the specific generated $y^{\\langle t-1 \\rangle}$ as input; it only takes $s^{\\langle t\\rangle}$ and $c^{\\langle t\\rangle}$ as input. We have designed the model this way, because (unlike language generation where adjacent characters are highly correlated) there isn't as strong a dependency between the previous character and the next character in a YYYY-MM-DD date. \n",
    "\n",
    "- We use $a^{\\langle t \\rangle} = [\\overrightarrow{a}^{\\langle t \\rangle}; \\overleftarrow{a}^{\\langle t \\rangle}]$ to represent the concatenation of the activations of both the forward-direction and backward-directions of the pre-attention Bi-LSTM. \n",
    "\n",
    "- The diagram on the right uses a `RepeatVector` node to copy $s^{\\langle t-1 \\rangle}$'s value $T_x$ times, and then `Concatenation` to concatenate $s^{\\langle t-1 \\rangle}$ and $a^{\\langle t \\rangle}$ to compute $e^{\\langle t, t'}$, which is then passed through a softmax to compute $\\alpha^{\\langle t, t' \\rangle}$. We'll explain how to use `RepeatVector` and `Concatenation` in Keras below. \n",
    "\n",
    "Lets implement this model. You will start by implementing two functions: `one_step_attention()` and `model()`.\n",
    "\n",
    "**1) `one_step_attention()`**: At step $t$, given all the hidden states of the Bi-LSTM ($[a^{<1>},a^{<2>}, ..., a^{<T_x>}]$) and the previous hidden state of the second LSTM ($s^{<t-1>}$), `one_step_attention()` will compute the attention weights ($[\\alpha^{<t,1>},\\alpha^{<t,2>}, ..., \\alpha^{<t,T_x>}]$) and output the context vector (see Figure  1 (right) for details):\n",
    "$$context^{<t>} = \\sum_{t' = 0}^{T_x} \\alpha^{<t,t'>}a^{<t'>}\\tag{1}$$ \n",
    "\n",
    "Note that we are denoting the attention in this notebook $context^{\\langle t \\rangle}$. In the lecture videos, the context was denoted $c^{\\langle t \\rangle}$, but here we are calling it $context^{\\langle t \\rangle}$ to avoid confusion with the (post-attention) LSTM's internal memory cell variable, which is sometimes also denoted $c^{\\langle t \\rangle}$. \n",
    "  \n",
    "**2) `model()`**: Implements the entire model. It first runs the input through a Bi-LSTM to get back $[a^{<1>},a^{<2>}, ..., a^{<T_x>}]$. Then, it calls `one_step_attention()` $T_y$ times (`for` loop). At each iteration of this loop, it gives the computed context vector $c^{<t>}$ to the second LSTM, and runs the output of the LSTM through a dense layer with softmax activation to generate a prediction $\\hat{y}^{<t>}$. \n",
    "\n",
    "\n",
    "\n",
    "**Exercise**: Implement `one_step_attention()`. The function `model()` will call the layers in `one_step_attention()` $T_y$ using a for-loop, and it is important that all $T_y$ copies have the same weights. I.e., it should not re-initiaiize the weights every time. In other words, all $T_y$ steps should have shared weights. Here's how you can implement layers with shareable weights in Keras:\n",
    "1. Define the layer objects (as global variables for examples).\n",
    "2. Call these objects when propagating the input.\n",
    "\n",
    "We have defined the layers you need as global variables. Please run the following cells to create them. Please check the Keras documentation to make sure you understand what these layers are: [RepeatVector()](https://keras.io/layers/core/#repeatvector), [Concatenate()](https://keras.io/layers/merge/#concatenate), [Dense()](https://keras.io/layers/core/#dense), [Activation()](https://keras.io/layers/core/#activation), [Dot()](https://keras.io/layers/merge/#dot)."
   ]
  },
  {
   "cell_type": "code",
   "execution_count": 11,
   "metadata": {},
   "outputs": [],
   "source": [
    "# Defined shared layers as global variables\n",
    "repeator = RepeatVector(Tx)\n",
    "concatenator = Concatenate(axis=-1)\n",
    "densor = Dense(1, activation = \"relu\")\n",
    "activator = Activation(softmax, name='attention_weights') # We are using a custom softmax(axis = 1) loaded in this notebook\n",
    "dotor = Dot(axes = 1)"
   ]
  },
  {
   "cell_type": "markdown",
   "metadata": {},
   "source": [
    "Now you can use these layers to implement `one_step_attention()`. In order to propagate a Keras tensor object X through one of these layers, use `layer(X)` (or `layer([X,Y])` if it requires multiple inputs.), e.g. `densor(X)` will propagate X through the `Dense(1)` layer defined above."
   ]
  },
  {
   "cell_type": "code",
   "execution_count": 12,
   "metadata": {},
   "outputs": [],
   "source": [
    "# GRADED FUNCTION: one_step_attention\n",
    "\n",
    "def one_step_attention(a, s_prev):\n",
    "    \"\"\"\n",
    "    Performs one step of attention: Outputs a context vector computed as a dot product of the attention weights\n",
    "    \"alphas\" and the hidden states \"a\" of the Bi-LSTM.\n",
    "    \n",
    "    Arguments:\n",
    "    a -- hidden state output of the Bi-LSTM, numpy-array of shape (m, Tx, 2*n_a)\n",
    "    s_prev -- previous hidden state of the (post-attention) LSTM, numpy-array of shape (m, n_s)\n",
    "    \n",
    "    Returns:\n",
    "    context -- context vector, input of the next (post-attetion) LSTM cell\n",
    "    \"\"\"\n",
    "    \n",
    "    ### START CODE HERE ###\n",
    "    # Use repeator to repeat s_prev to be of shape (m, Tx, n_s) so that you can concatenate it with all hidden states \"a\" (≈ 1 line)\n",
    "    s_prev = repeator(s_prev)\n",
    "    # Use concatenator to concatenate a and s_prev on the last axis (≈ 1 line)\n",
    "    concat = concatenator([a, s_prev])\n",
    "    # Use densor to propagate concat through a small fully-connected neural network to compute the \"energies\" variable e. (≈1 lines)\n",
    "    e = densor(concat)\n",
    "    # Use activator and e to compute the attention weights \"alphas\" (≈ 1 line)\n",
    "    alphas = activator(e)\n",
    "    # Use dotor together with \"alphas\" and \"a\" to compute the context vector to be given to the next (post-attention) LSTM-cell (≈ 1 line)\n",
    "    context = dotor([alphas, a])\n",
    "    ### END CODE HERE ###\n",
    "    \n",
    "    return context"
   ]
  },
  {
   "cell_type": "markdown",
   "metadata": {},
   "source": [
    "You will be able to check the expected output of `one_step_attention()` after you've coded the `model()` function."
   ]
  },
  {
   "cell_type": "markdown",
   "metadata": {},
   "source": [
    "**Exercise**: Implement `model()` as explained in figure 2 and the text above. Again, we have defined global layers that will share weights to be used in `model()`."
   ]
  },
  {
   "cell_type": "code",
   "execution_count": 13,
   "metadata": {},
   "outputs": [],
   "source": [
    "n_a = 64\n",
    "n_s = 128\n",
    "post_activation_LSTM_cell = LSTM(n_s, return_state = True)\n",
    "output_layer = Dense(len(machine_vocab), activation=softmax)"
   ]
  },
  {
   "cell_type": "markdown",
   "metadata": {},
   "source": [
    "Now you can use these layers $T_y$ times in a `for` loop to generate the outputs, and their parameters will not be reinitialized. You will have to carry out the following steps: \n",
    "\n",
    "1. Propagate the input into a [Bidirectional](https://keras.io/layers/wrappers/#bidirectional) [LSTM](https://keras.io/layers/recurrent/#lstm)\n",
    "2. Iterate for $t = 0, \\dots, T_y-1$: \n",
    "    1. Call `one_step_attention()` on $[\\alpha^{<t,1>},\\alpha^{<t,2>}, ..., \\alpha^{<t,T_x>}]$ and $s^{<t-1>}$ to get the context vector $context^{<t>}$.\n",
    "    2. Give $context^{<t>}$ to the post-attention LSTM cell. Remember pass in the previous hidden-state $s^{\\langle t-1\\rangle}$ and cell-states $c^{\\langle t-1\\rangle}$ of this LSTM using `initial_state= [previous hidden state, previous cell state]`. Get back the new hidden state $s^{<t>}$ and the new cell state $c^{<t>}$.\n",
    "    3. Apply a softmax layer to $s^{<t>}$, get the output. \n",
    "    4. Save the output by adding it to the list of outputs.\n",
    "\n",
    "3. Create your Keras model instance, it should have three inputs (\"inputs\", $s^{<0>}$ and $c^{<0>}$) and output the list of \"outputs\"."
   ]
  },
  {
   "cell_type": "code",
   "execution_count": 14,
   "metadata": {},
   "outputs": [],
   "source": [
    "# GRADED FUNCTION: model\n",
    "\n",
    "def model(Tx, Ty, n_a, n_s, human_vocab_size, machine_vocab_size):\n",
    "    \"\"\"\n",
    "    Arguments:\n",
    "    Tx -- length of the input sequence\n",
    "    Ty -- length of the output sequence\n",
    "    n_a -- hidden state size of the Bi-LSTM\n",
    "    n_s -- hidden state size of the post-attention LSTM\n",
    "    human_vocab_size -- size of the python dictionary \"human_vocab\"\n",
    "    machine_vocab_size -- size of the python dictionary \"machine_vocab\"\n",
    "\n",
    "    Returns:\n",
    "    model -- Keras model instance\n",
    "    \"\"\"\n",
    "    \n",
    "    # Define the inputs of your model with a shape (Tx,)\n",
    "    # Define s0 and c0, initial hidden state for the decoder LSTM of shape (n_s,)\n",
    "    X = Input(shape=(Tx, human_vocab_size))\n",
    "    s0 = Input(shape=(n_s,), name='s0')\n",
    "    c0 = Input(shape=(n_s,), name='c0')\n",
    "    s = s0\n",
    "    c = c0\n",
    "    \n",
    "    # Initialize empty list of outputs\n",
    "    outputs = []\n",
    "    \n",
    "    ### START CODE HERE ###\n",
    "    \n",
    "    # Step 1: Define your pre-attention Bi-LSTM. Remember to use return_sequences=True. (≈ 1 line)\n",
    "    a = Bidirectional(LSTM(n_a, return_sequences=True))(X)\n",
    "    \n",
    "    # Step 2: Iterate for Ty steps\n",
    "    for t in range(Ty):\n",
    "    \n",
    "        # Step 2.A: Perform one step of the attention mechanism to get back the context vector at step t (≈ 1 line)\n",
    "        context = one_step_attention(a, s)\n",
    "        \n",
    "        # Step 2.B: Apply the post-attention LSTM cell to the \"context\" vector.\n",
    "        # Don't forget to pass: initial_state = [hidden state, cell state] (≈ 1 line)\n",
    "        s, _, c = post_activation_LSTM_cell(context, initial_state = [s, c])\n",
    "        \n",
    "        # Step 2.C: Apply Dense layer to the hidden state output of the post-attention LSTM (≈ 1 line)\n",
    "        out = output_layer(s)\n",
    "        \n",
    "        # Step 2.D: Append \"out\" to the \"outputs\" list (≈ 1 line)\n",
    "        outputs.append(out)\n",
    "    \n",
    "    # Step 3: Create model instance taking three inputs and returning the list of outputs. (≈ 1 line)\n",
    "    model = Model(inputs = [X, s0, c0], outputs = outputs)\n",
    "    \n",
    "    ### END CODE HERE ###\n",
    "    \n",
    "    return model"
   ]
  },
  {
   "cell_type": "markdown",
   "metadata": {},
   "source": [
    "Run the following cell to create your model."
   ]
  },
  {
   "cell_type": "code",
   "execution_count": 15,
   "metadata": {},
   "outputs": [],
   "source": [
    "model = model(Tx, Ty, n_a, n_s, len(human_vocab), len(machine_vocab))"
   ]
  },
  {
   "cell_type": "markdown",
   "metadata": {},
   "source": [
    "Let's get a summary of the model to check if it matches the expected output."
   ]
  },
  {
   "cell_type": "code",
   "execution_count": 16,
   "metadata": {},
   "outputs": [
    {
     "name": "stdout",
     "output_type": "stream",
     "text": [
      "__________________________________________________________________________________________________\n",
      "Layer (type)                    Output Shape         Param #     Connected to                     \n",
      "==================================================================================================\n",
      "input_1 (InputLayer)            (None, 30, 37)       0                                            \n",
      "__________________________________________________________________________________________________\n",
      "s0 (InputLayer)                 (None, 128)          0                                            \n",
      "__________________________________________________________________________________________________\n",
      "bidirectional_1 (Bidirectional) (None, 30, 128)      52224       input_1[0][0]                    \n",
      "__________________________________________________________________________________________________\n",
      "repeat_vector_1 (RepeatVector)  (None, 30, 128)      0           s0[0][0]                         \n",
      "                                                                 lstm_1[0][0]                     \n",
      "                                                                 lstm_1[1][0]                     \n",
      "                                                                 lstm_1[2][0]                     \n",
      "                                                                 lstm_1[3][0]                     \n",
      "                                                                 lstm_1[4][0]                     \n",
      "                                                                 lstm_1[5][0]                     \n",
      "                                                                 lstm_1[6][0]                     \n",
      "                                                                 lstm_1[7][0]                     \n",
      "                                                                 lstm_1[8][0]                     \n",
      "__________________________________________________________________________________________________\n",
      "concatenate_1 (Concatenate)     (None, 30, 256)      0           bidirectional_1[0][0]            \n",
      "                                                                 repeat_vector_1[0][0]            \n",
      "                                                                 bidirectional_1[0][0]            \n",
      "                                                                 repeat_vector_1[1][0]            \n",
      "                                                                 bidirectional_1[0][0]            \n",
      "                                                                 repeat_vector_1[2][0]            \n",
      "                                                                 bidirectional_1[0][0]            \n",
      "                                                                 repeat_vector_1[3][0]            \n",
      "                                                                 bidirectional_1[0][0]            \n",
      "                                                                 repeat_vector_1[4][0]            \n",
      "                                                                 bidirectional_1[0][0]            \n",
      "                                                                 repeat_vector_1[5][0]            \n",
      "                                                                 bidirectional_1[0][0]            \n",
      "                                                                 repeat_vector_1[6][0]            \n",
      "                                                                 bidirectional_1[0][0]            \n",
      "                                                                 repeat_vector_1[7][0]            \n",
      "                                                                 bidirectional_1[0][0]            \n",
      "                                                                 repeat_vector_1[8][0]            \n",
      "                                                                 bidirectional_1[0][0]            \n",
      "                                                                 repeat_vector_1[9][0]            \n",
      "__________________________________________________________________________________________________\n",
      "dense_1 (Dense)                 (None, 30, 1)        257         concatenate_1[0][0]              \n",
      "                                                                 concatenate_1[1][0]              \n",
      "                                                                 concatenate_1[2][0]              \n",
      "                                                                 concatenate_1[3][0]              \n",
      "                                                                 concatenate_1[4][0]              \n",
      "                                                                 concatenate_1[5][0]              \n",
      "                                                                 concatenate_1[6][0]              \n",
      "                                                                 concatenate_1[7][0]              \n",
      "                                                                 concatenate_1[8][0]              \n",
      "                                                                 concatenate_1[9][0]              \n",
      "__________________________________________________________________________________________________\n",
      "attention_weights (Activation)  (None, 30, 1)        0           dense_1[0][0]                    \n",
      "                                                                 dense_1[1][0]                    \n",
      "                                                                 dense_1[2][0]                    \n",
      "                                                                 dense_1[3][0]                    \n",
      "                                                                 dense_1[4][0]                    \n",
      "                                                                 dense_1[5][0]                    \n",
      "                                                                 dense_1[6][0]                    \n",
      "                                                                 dense_1[7][0]                    \n",
      "                                                                 dense_1[8][0]                    \n",
      "                                                                 dense_1[9][0]                    \n",
      "__________________________________________________________________________________________________\n",
      "dot_1 (Dot)                     (None, 1, 128)       0           attention_weights[0][0]          \n",
      "                                                                 bidirectional_1[0][0]            \n",
      "                                                                 attention_weights[1][0]          \n",
      "                                                                 bidirectional_1[0][0]            \n",
      "                                                                 attention_weights[2][0]          \n",
      "                                                                 bidirectional_1[0][0]            \n",
      "                                                                 attention_weights[3][0]          \n",
      "                                                                 bidirectional_1[0][0]            \n",
      "                                                                 attention_weights[4][0]          \n",
      "                                                                 bidirectional_1[0][0]            \n",
      "                                                                 attention_weights[5][0]          \n",
      "                                                                 bidirectional_1[0][0]            \n",
      "                                                                 attention_weights[6][0]          \n",
      "                                                                 bidirectional_1[0][0]            \n",
      "                                                                 attention_weights[7][0]          \n",
      "                                                                 bidirectional_1[0][0]            \n",
      "                                                                 attention_weights[8][0]          \n",
      "                                                                 bidirectional_1[0][0]            \n",
      "                                                                 attention_weights[9][0]          \n"
     ]
    },
    {
     "name": "stdout",
     "output_type": "stream",
     "text": [
      "                                                                 bidirectional_1[0][0]            \n",
      "__________________________________________________________________________________________________\n",
      "c0 (InputLayer)                 (None, 128)          0                                            \n",
      "__________________________________________________________________________________________________\n",
      "lstm_1 (LSTM)                   [(None, 128), (None, 131584      dot_1[0][0]                      \n",
      "                                                                 s0[0][0]                         \n",
      "                                                                 c0[0][0]                         \n",
      "                                                                 dot_1[1][0]                      \n",
      "                                                                 lstm_1[0][0]                     \n",
      "                                                                 lstm_1[0][2]                     \n",
      "                                                                 dot_1[2][0]                      \n",
      "                                                                 lstm_1[1][0]                     \n",
      "                                                                 lstm_1[1][2]                     \n",
      "                                                                 dot_1[3][0]                      \n",
      "                                                                 lstm_1[2][0]                     \n",
      "                                                                 lstm_1[2][2]                     \n",
      "                                                                 dot_1[4][0]                      \n",
      "                                                                 lstm_1[3][0]                     \n",
      "                                                                 lstm_1[3][2]                     \n",
      "                                                                 dot_1[5][0]                      \n",
      "                                                                 lstm_1[4][0]                     \n",
      "                                                                 lstm_1[4][2]                     \n",
      "                                                                 dot_1[6][0]                      \n",
      "                                                                 lstm_1[5][0]                     \n",
      "                                                                 lstm_1[5][2]                     \n",
      "                                                                 dot_1[7][0]                      \n",
      "                                                                 lstm_1[6][0]                     \n",
      "                                                                 lstm_1[6][2]                     \n",
      "                                                                 dot_1[8][0]                      \n",
      "                                                                 lstm_1[7][0]                     \n",
      "                                                                 lstm_1[7][2]                     \n",
      "                                                                 dot_1[9][0]                      \n",
      "                                                                 lstm_1[8][0]                     \n",
      "                                                                 lstm_1[8][2]                     \n",
      "__________________________________________________________________________________________________\n",
      "dense_2 (Dense)                 (None, 11)           1419        lstm_1[0][0]                     \n",
      "                                                                 lstm_1[1][0]                     \n",
      "                                                                 lstm_1[2][0]                     \n",
      "                                                                 lstm_1[3][0]                     \n",
      "                                                                 lstm_1[4][0]                     \n",
      "                                                                 lstm_1[5][0]                     \n",
      "                                                                 lstm_1[6][0]                     \n",
      "                                                                 lstm_1[7][0]                     \n",
      "                                                                 lstm_1[8][0]                     \n",
      "                                                                 lstm_1[9][0]                     \n",
      "==================================================================================================\n",
      "Total params: 185,484\n",
      "Trainable params: 185,484\n",
      "Non-trainable params: 0\n",
      "__________________________________________________________________________________________________\n"
     ]
    }
   ],
   "source": [
    "model.summary()"
   ]
  },
  {
   "cell_type": "markdown",
   "metadata": {},
   "source": [
    "**Expected Output**:\n",
    "\n",
    "Here is the summary you should see\n",
    "<table>\n",
    "    <tr>\n",
    "        <td>\n",
    "            **Total params:**\n",
    "        </td>\n",
    "        <td>\n",
    "         185,484\n",
    "        </td>\n",
    "    </tr>\n",
    "        <tr>\n",
    "        <td>\n",
    "            **Trainable params:**\n",
    "        </td>\n",
    "        <td>\n",
    "         185,484\n",
    "        </td>\n",
    "    </tr>\n",
    "            <tr>\n",
    "        <td>\n",
    "            **Non-trainable params:**\n",
    "        </td>\n",
    "        <td>\n",
    "         0\n",
    "        </td>\n",
    "    </tr>\n",
    "                    <tr>\n",
    "        <td>\n",
    "            **bidirectional_1's output shape **\n",
    "        </td>\n",
    "        <td>\n",
    "         (None, 30, 128)  \n",
    "        </td>\n",
    "    </tr>\n",
    "    <tr>\n",
    "        <td>\n",
    "            **repeat_vector_1's output shape **\n",
    "        </td>\n",
    "        <td>\n",
    "         (None, 30, 128)  \n",
    "        </td>\n",
    "    </tr>\n",
    "                <tr>\n",
    "        <td>\n",
    "            **concatenate_1's output shape **\n",
    "        </td>\n",
    "        <td>\n",
    "         (None, 30, 256) \n",
    "        </td>\n",
    "    </tr>\n",
    "            <tr>\n",
    "        <td>\n",
    "            **attention_weights's output shape **\n",
    "        </td>\n",
    "        <td>\n",
    "         (None, 30, 1)  \n",
    "        </td>\n",
    "    </tr>\n",
    "        <tr>\n",
    "        <td>\n",
    "            **dot_1's output shape **\n",
    "        </td>\n",
    "        <td>\n",
    "         (None, 1, 128) \n",
    "        </td>\n",
    "    </tr>\n",
    "           <tr>\n",
    "        <td>\n",
    "            **dense_2's output shape **\n",
    "        </td>\n",
    "        <td>\n",
    "         (None, 11) \n",
    "        </td>\n",
    "    </tr>\n",
    "</table>\n"
   ]
  },
  {
   "cell_type": "markdown",
   "metadata": {},
   "source": [
    "As usual, after creating your model in Keras, you need to compile it and define what loss, optimizer and metrics your are want to use. Compile your model using `categorical_crossentropy` loss, a custom [Adam](https://keras.io/optimizers/#adam) [optimizer](https://keras.io/optimizers/#usage-of-optimizers) (`learning rate = 0.005`, $\\beta_1 = 0.9$, $\\beta_2 = 0.999$, `decay = 0.01`)  and `['accuracy']` metrics:"
   ]
  },
  {
   "cell_type": "code",
   "execution_count": 17,
   "metadata": {},
   "outputs": [],
   "source": [
    "### START CODE HERE ### (≈2 lines)\n",
    "out = model.compile(optimizer=Adam(lr=0.005, beta_1=0.9, beta_2=0.999, decay=0.01),\n",
    "                    metrics=['accuracy'],\n",
    "                    loss='categorical_crossentropy')\n",
    "out\n",
    "### END CODE HERE ###"
   ]
  },
  {
   "cell_type": "markdown",
   "metadata": {},
   "source": [
    "The last step is to define all your inputs and outputs to fit the model:\n",
    "- You already have X of shape $(m = 10000, T_x = 30)$ containing the training examples.\n",
    "- You need to create `s0` and `c0` to initialize your `post_activation_LSTM_cell` with 0s.\n",
    "- Given the `model()` you coded, you need the \"outputs\" to be a list of 11 elements of shape (m, T_y). So that: `outputs[i][0], ..., outputs[i][Ty]` represent the true labels (characters) corresponding to the $i^{th}$ training example (`X[i]`). More generally, `outputs[i][j]` is the true label of the $j^{th}$ character in the $i^{th}$ training example."
   ]
  },
  {
   "cell_type": "code",
   "execution_count": 18,
   "metadata": {},
   "outputs": [],
   "source": [
    "s0 = np.zeros((m, n_s))\n",
    "c0 = np.zeros((m, n_s))\n",
    "outputs = list(Yoh.swapaxes(0,1))"
   ]
  },
  {
   "cell_type": "code",
   "execution_count": 19,
   "metadata": {},
   "outputs": [
    {
     "name": "stdout",
     "output_type": "stream",
     "text": [
      "(10000, 128)\n",
      "(10000, 128)\n",
      "10\n",
      "(10000, 11)\n"
     ]
    }
   ],
   "source": [
    "print(s0.shape)\n",
    "print(c0.shape)\n",
    "print(len(outputs))\n",
    "print(outputs[0].shape)"
   ]
  },
  {
   "cell_type": "markdown",
   "metadata": {},
   "source": [
    "Let's now fit the model and run it for one epoch."
   ]
  },
  {
   "cell_type": "code",
   "execution_count": 21,
   "metadata": {},
   "outputs": [
    {
     "name": "stdout",
     "output_type": "stream",
     "text": [
      "Epoch 1/1\n"
     ]
    },
    {
     "name": "stdout",
     "output_type": "stream",
     "text": [
      " 2900/10000 [=======>......................] - ETA: 13:21 - loss: 23.9631 - dense_2_loss: 2.3999 - dense_2_acc: 0.0000e+00 - dense_2_acc_1: 0.0800 - dense_2_acc_2: 0.1200 - dense_2_acc_3: 0.1000 - dense_2_acc_4: 0.0000e+00 - dense_2_acc_5: 0.3100 - dense_2_acc_6: 0.0700 - dense_2_acc_7: 0.0000e+00 - dense_2_acc_8: 0.1100 - dense_2_acc_9: 0.07 - ETA: 6:48 - loss: 23.6085 - dense_2_loss: 2.4152 - dense_2_acc: 0.0000e+00 - dense_2_acc_1: 0.0450 - dense_2_acc_2: 0.0600 - dense_2_acc_3: 0.0500 - dense_2_acc_4: 0.5000 - dense_2_acc_5: 0.1550 - dense_2_acc_6: 0.0350 - dense_2_acc_7: 0.5000 - dense_2_acc_8: 0.0550 - dense_2_acc_9: 0.0350         - ETA: 4:36 - loss: 23.1718 - dense_2_loss: 2.4626 - dense_2_acc: 0.0000e+00 - dense_2_acc_1: 0.0300 - dense_2_acc_2: 0.0400 - dense_2_acc_3: 0.0333 - dense_2_acc_4: 0.6667 - dense_2_acc_5: 0.1033 - dense_2_acc_6: 0.0233 - dense_2_acc_7: 0.6667 - dense_2_acc_8: 0.0367 - dense_2_acc_9: 0.023 - ETA: 3:31 - loss: 23.1011 - dense_2_loss: 2.8292 - dense_2_acc: 0.0000e+00 - dense_2_acc_1: 0.0225 - dense_2_acc_2: 0.0300 - dense_2_acc_3: 0.0250 - dense_2_acc_4: 0.7500 - dense_2_acc_5: 0.0775 - dense_2_acc_6: 0.0175 - dense_2_acc_7: 0.7500 - dense_2_acc_8: 0.0275 - dense_2_acc_9: 0.017 - ETA: 2:51 - loss: 22.8564 - dense_2_loss: 2.9045 - dense_2_acc: 0.0000e+00 - dense_2_acc_1: 0.0800 - dense_2_acc_2: 0.0580 - dense_2_acc_3: 0.0380 - dense_2_acc_4: 0.6740 - dense_2_acc_5: 0.1480 - dense_2_acc_6: 0.0180 - dense_2_acc_7: 0.7340 - dense_2_acc_8: 0.0360 - dense_2_acc_9: 0.016 - ETA: 2:25 - loss: 22.6744 - dense_2_loss: 2.8769 - dense_2_acc: 0.0000e+00 - dense_2_acc_1: 0.1233 - dense_2_acc_2: 0.0683 - dense_2_acc_3: 0.0517 - dense_2_acc_4: 0.5933 - dense_2_acc_5: 0.2250 - dense_2_acc_6: 0.0167 - dense_2_acc_7: 0.6800 - dense_2_acc_8: 0.0533 - dense_2_acc_9: 0.025 - ETA: 2:06 - loss: 22.5320 - dense_2_loss: 2.8269 - dense_2_acc: 0.0243 - dense_2_acc_1: 0.1614 - dense_2_acc_2: 0.0886 - dense_2_acc_3: 0.0457 - dense_2_acc_4: 0.6457 - dense_2_acc_5: 0.1929 - dense_2_acc_6: 0.0143 - dense_2_acc_7: 0.7257 - dense_2_acc_8: 0.0457 - dense_2_acc_9: 0.0214    - ETA: 1:51 - loss: 22.4267 - dense_2_loss: 2.7950 - dense_2_acc: 0.0900 - dense_2_acc_1: 0.1712 - dense_2_acc_2: 0.0975 - dense_2_acc_3: 0.0413 - dense_2_acc_4: 0.6900 - dense_2_acc_5: 0.1688 - dense_2_acc_6: 0.0125 - dense_2_acc_7: 0.7600 - dense_2_acc_8: 0.0400 - dense_2_acc_9: 0.018 - ETA: 1:40 - loss: 22.3256 - dense_2_loss: 2.7747 - dense_2_acc: 0.1522 - dense_2_acc_1: 0.1778 - dense_2_acc_2: 0.0956 - dense_2_acc_3: 0.0367 - dense_2_acc_4: 0.7244 - dense_2_acc_5: 0.1500 - dense_2_acc_6: 0.0111 - dense_2_acc_7: 0.7867 - dense_2_acc_8: 0.0356 - dense_2_acc_9: 0.016 - ETA: 1:31 - loss: 22.2285 - dense_2_loss: 2.7614 - dense_2_acc: 0.1970 - dense_2_acc_1: 0.1900 - dense_2_acc_2: 0.1040 - dense_2_acc_3: 0.0330 - dense_2_acc_4: 0.7520 - dense_2_acc_5: 0.1350 - dense_2_acc_6: 0.0100 - dense_2_acc_7: 0.8080 - dense_2_acc_8: 0.0320 - dense_2_acc_9: 0.015 - ETA: 1:24 - loss: 22.1355 - dense_2_loss: 2.7812 - dense_2_acc: 0.1927 - dense_2_acc_1: 0.2127 - dense_2_acc_2: 0.1100 - dense_2_acc_3: 0.0300 - dense_2_acc_4: 0.7745 - dense_2_acc_5: 0.1227 - dense_2_acc_6: 0.0091 - dense_2_acc_7: 0.8255 - dense_2_acc_8: 0.0291 - dense_2_acc_9: 0.013 - ETA: 1:18 - loss: 22.0589 - dense_2_loss: 2.8000 - dense_2_acc: 0.1767 - dense_2_acc_1: 0.2300 - dense_2_acc_2: 0.1217 - dense_2_acc_3: 0.0300 - dense_2_acc_4: 0.7933 - dense_2_acc_5: 0.1125 - dense_2_acc_6: 0.0083 - dense_2_acc_7: 0.8400 - dense_2_acc_8: 0.0267 - dense_2_acc_9: 0.012 - ETA: 1:13 - loss: 21.9834 - dense_2_loss: 2.8172 - dense_2_acc: 0.1631 - dense_2_acc_1: 0.2385 - dense_2_acc_2: 0.1254 - dense_2_acc_3: 0.0354 - dense_2_acc_4: 0.8031 - dense_2_acc_5: 0.1038 - dense_2_acc_6: 0.0077 - dense_2_acc_7: 0.8523 - dense_2_acc_8: 0.0246 - dense_2_acc_9: 0.011 - ETA: 1:08 - loss: 21.8973 - dense_2_loss: 2.8256 - dense_2_acc: 0.1514 - dense_2_acc_1: 0.2479 - dense_2_acc_2: 0.1314 - dense_2_acc_3: 0.0379 - dense_2_acc_4: 0.8171 - dense_2_acc_5: 0.0964 - dense_2_acc_6: 0.0071 - dense_2_acc_7: 0.8629 - dense_2_acc_8: 0.0229 - dense_2_acc_9: 0.010 - ETA: 1:04 - loss: 21.7992 - dense_2_loss: 2.8174 - dense_2_acc: 0.1413 - dense_2_acc_1: 0.2567 - dense_2_acc_2: 0.1333 - dense_2_acc_3: 0.0400 - dense_2_acc_4: 0.8293 - dense_2_acc_5: 0.0900 - dense_2_acc_6: 0.0067 - dense_2_acc_7: 0.8720 - dense_2_acc_8: 0.0213 - dense_2_acc_9: 0.011 - ETA: 1:01 - loss: 21.7324 - dense_2_loss: 2.8109 - dense_2_acc: 0.1325 - dense_2_acc_1: 0.2650 - dense_2_acc_2: 0.1381 - dense_2_acc_3: 0.0406 - dense_2_acc_4: 0.8400 - dense_2_acc_5: 0.0844 - dense_2_acc_6: 0.0062 - dense_2_acc_7: 0.8800 - dense_2_acc_8: 0.0200 - dense_2_acc_9: 0.010 - ETA: 57s - loss: 21.6544 - dense_2_loss: 2.7995 - dense_2_acc: 0.1247 - dense_2_acc_1: 0.2765 - dense_2_acc_2: 0.1429 - dense_2_acc_3: 0.0435 - dense_2_acc_4: 0.8329 - dense_2_acc_5: 0.0794 - dense_2_acc_6: 0.0059 - dense_2_acc_7: 0.8871 - dense_2_acc_8: 0.0188 - dense_2_acc_9: 0.010 - ETA: 55s - loss: 21.5885 - dense_2_loss: 2.7993 - dense_2_acc: 0.1178 - dense_2_acc_1: 0.2956 - dense_2_acc_2: 0.1467 - dense_2_acc_3: 0.0478 - dense_2_acc_4: 0.8072 - dense_2_acc_5: 0.0811 - dense_2_acc_6: 0.0056 - dense_2_acc_7: 0.8933 - dense_2_acc_8: 0.0178 - dense_2_acc_9: 0.01 - ETA: 52s - loss: 21.5189 - dense_2_loss: 2.7978 - dense_2_acc: 0.1116 - dense_2_acc_1: 0.3121 - dense_2_acc_2: 0.1521 - dense_2_acc_3: 0.0479 - dense_2_acc_4: 0.8168 - dense_2_acc_5: 0.0768 - dense_2_acc_6: 0.0053 - dense_2_acc_7: 0.8989 - dense_2_acc_8: 0.0168 - dense_2_acc_9: 0.01 - ETA: 50s - loss: 21.4641 - dense_2_loss: 2.7970 - dense_2_acc: 0.1060 - dense_2_acc_1: 0.3270 - dense_2_acc_2: 0.1540 - dense_2_acc_3: 0.0460 - dense_2_acc_4: 0.8260 - dense_2_acc_5: 0.0730 - dense_2_acc_6: 0.0050 - dense_2_acc_7: 0.9040 - dense_2_acc_8: 0.0265 - dense_2_acc_9: 0.01 - ETA: 48s - loss: 21.3908 - dense_2_loss: 2.7908 - dense_2_acc: 0.1010 - dense_2_acc_1: 0.3390 - dense_2_acc_2: 0.1581 - dense_2_acc_3: 0.0438 - dense_2_acc_4: 0.8343 - dense_2_acc_5: 0.0695 - dense_2_acc_6: 0.0048 - dense_2_acc_7: 0.9057 - dense_2_acc_8: 0.0438 - dense_2_acc_9: 0.01 - ETA: 46s - loss: 21.3348 - dense_2_loss: 2.7888 - dense_2_acc: 0.0964 - dense_2_acc_1: 0.3495 - dense_2_acc_2: 0.1600 - dense_2_acc_3: 0.0427 - dense_2_acc_4: 0.8418 - dense_2_acc_5: 0.0664 - dense_2_acc_6: 0.0045 - dense_2_acc_7: 0.9100 - dense_2_acc_8: 0.0514 - dense_2_acc_9: 0.02 - ETA: 44s - loss: 21.2634 - dense_2_loss: 2.7864 - dense_2_acc: 0.0922 - dense_2_acc_1: 0.3648 - dense_2_acc_2: 0.1696 - dense_2_acc_3: 0.0443 - dense_2_acc_4: 0.8487 - dense_2_acc_5: 0.0635 - dense_2_acc_6: 0.0043 - dense_2_acc_7: 0.9135 - dense_2_acc_8: 0.0509 - dense_2_acc_9: 0.02 - ETA: 42s - loss: 21.2089 - dense_2_loss: 2.7860 - dense_2_acc: 0.0883 - dense_2_acc_1: 0.3733 - dense_2_acc_2: 0.1767 - dense_2_acc_3: 0.0429 - dense_2_acc_4: 0.8550 - dense_2_acc_5: 0.0608 - dense_2_acc_6: 0.0042 - dense_2_acc_7: 0.9129 - dense_2_acc_8: 0.0567 - dense_2_acc_9: 0.02 - ETA: 40s - loss: 21.1585 - dense_2_loss: 2.7821 - dense_2_acc: 0.0848 - dense_2_acc_1: 0.3788 - dense_2_acc_2: 0.1808 - dense_2_acc_3: 0.0436 - dense_2_acc_4: 0.8608 - dense_2_acc_5: 0.0584 - dense_2_acc_6: 0.0048 - dense_2_acc_7: 0.8920 - dense_2_acc_8: 0.0692 - dense_2_acc_9: 0.03 - ETA: 39s - loss: 21.0926 - dense_2_loss: 2.7808 - dense_2_acc: 0.0815 - dense_2_acc_1: 0.3877 - dense_2_acc_2: 0.1915 - dense_2_acc_3: 0.0431 - dense_2_acc_4: 0.8662 - dense_2_acc_5: 0.0562 - dense_2_acc_6: 0.0062 - dense_2_acc_7: 0.8712 - dense_2_acc_8: 0.0769 - dense_2_acc_9: 0.03 - ETA: 38s - loss: 21.0274 - dense_2_loss: 2.7783 - dense_2_acc: 0.0785 - dense_2_acc_1: 0.3959 - dense_2_acc_2: 0.1919 - dense_2_acc_3: 0.0463 - dense_2_acc_4: 0.8711 - dense_2_acc_5: 0.0541 - dense_2_acc_6: 0.0059 - dense_2_acc_7: 0.8619 - dense_2_acc_8: 0.0844 - dense_2_acc_9: 0.04 - ETA: 36s - loss: 20.9539 - dense_2_loss: 2.7731 - dense_2_acc: 0.0757 - dense_2_acc_1: 0.4079 - dense_2_acc_2: 0.1954 - dense_2_acc_3: 0.0461 - dense_2_acc_4: 0.8754 - dense_2_acc_5: 0.0525 - dense_2_acc_6: 0.0057 - dense_2_acc_7: 0.8618 - dense_2_acc_8: 0.0857 - dense_2_acc_9: 0.04 - ETA: 35s - loss: 20.8795 - dense_2_loss: 2.7687 - dense_2_acc: 0.0731 - dense_2_acc_1: 0.4148 - dense_2_acc_2: 0.2021 - dense_2_acc_3: 0.0448 - dense_2_acc_4: 0.8797 - dense_2_acc_5: 0.0507 - dense_2_acc_6: 0.0059 - dense_2_acc_7: 0.8566 - dense_2_acc_8: 0.0914 - dense_2_acc_9: 0.0497\b\b\b\b\b\b\b\b\b\b\b\b\b\b\b\b\b\b\b\b\b\b\b\b\b\b\b\b\b\b\b\b\b\b\b\b\b\b\b\b\b\b\b\b\b\b\b\b\b\b\b\b\b\b\b\b\b\b\b\b\b\b\b\b\b\b\b\b\b\b\b\b\b\b\b\b\b\b\b\b\b\b\b\b\b\b\b\b\b\b\b\b\b\b\b\b\b\b\b\b\b\b\b\b\b\b\b\b\b\b\b\b\b\b\b\b\b\b\b\b\b\b\b\b\b\b\b\b\b\b\b\b\b\b\b\b\b\b\b\b\b\b\b\b\b\b\b\b\b\b\b\b\b\b\b\b\b\b\b\b\b\b\b\b\b\b\b\b\b\b\b\b\b\b\b\b\b\b\b\b\b\b\b\b\b\b\b\b\b\b\b\b\b\b\b\b\b\b\b\b\b\b\b\b\b\b\b\b\b\b\b\b\b\b\b\b\b\b\b\b\b\b\b\b\b\b\b\b\b\b\b\b\b\b\b\b\b\b\b\b\b\b\b\b\b\b\b\b\b\b\b\b\b\b\b\b\b\b\b\b\b\b\b\b\b\b\b\b\b\b\b\b\b\b\b\b\b\b\b\b\b\b\b\b\b\b\b\b\b\b\b\b\b\b\b\b\b\b\b\b\b\b\b\b\b\b\b\b\b\b\b\b\b\b\b\b\b\b\b\b\b\b\b\b\b\b\b\b\b\b\b\b"
     ]
    },
    {
     "name": "stdout",
     "output_type": "stream",
     "text": [
      " 5800/10000 [================>.............] - ETA: 34s - loss: 20.8201 - dense_2_loss: 2.7734 - dense_2_acc: 0.0713 - dense_2_acc_1: 0.4217 - dense_2_acc_2: 0.2073 - dense_2_acc_3: 0.0443 - dense_2_acc_4: 0.8827 - dense_2_acc_5: 0.0500 - dense_2_acc_6: 0.0077 - dense_2_acc_7: 0.8367 - dense_2_acc_8: 0.1003 - dense_2_acc_9: 0.05 - ETA: 33s - loss: 20.7525 - dense_2_loss: 2.7747 - dense_2_acc: 0.0716 - dense_2_acc_1: 0.4300 - dense_2_acc_2: 0.2090 - dense_2_acc_3: 0.0442 - dense_2_acc_4: 0.8865 - dense_2_acc_5: 0.0487 - dense_2_acc_6: 0.0074 - dense_2_acc_7: 0.8310 - dense_2_acc_8: 0.1074 - dense_2_acc_9: 0.05 - ETA: 32s - loss: 20.6798 - dense_2_loss: 2.7738 - dense_2_acc: 0.0763 - dense_2_acc_1: 0.4375 - dense_2_acc_2: 0.2131 - dense_2_acc_3: 0.0453 - dense_2_acc_4: 0.8859 - dense_2_acc_5: 0.0513 - dense_2_acc_6: 0.0075 - dense_2_acc_7: 0.8219 - dense_2_acc_8: 0.1109 - dense_2_acc_9: 0.06 - ETA: 31s - loss: 20.6019 - dense_2_loss: 2.7707 - dense_2_acc: 0.0888 - dense_2_acc_1: 0.4455 - dense_2_acc_2: 0.2164 - dense_2_acc_3: 0.0452 - dense_2_acc_4: 0.8870 - dense_2_acc_5: 0.0527 - dense_2_acc_6: 0.0082 - dense_2_acc_7: 0.8073 - dense_2_acc_8: 0.1185 - dense_2_acc_9: 0.06 - ETA: 30s - loss: 20.5365 - dense_2_loss: 2.7724 - dense_2_acc: 0.1018 - dense_2_acc_1: 0.4494 - dense_2_acc_2: 0.2209 - dense_2_acc_3: 0.0468 - dense_2_acc_4: 0.8900 - dense_2_acc_5: 0.0515 - dense_2_acc_6: 0.0085 - dense_2_acc_7: 0.7979 - dense_2_acc_8: 0.1250 - dense_2_acc_9: 0.06 - ETA: 29s - loss: 20.4640 - dense_2_loss: 2.7771 - dense_2_acc: 0.1171 - dense_2_acc_1: 0.4577 - dense_2_acc_2: 0.2234 - dense_2_acc_3: 0.0486 - dense_2_acc_4: 0.8914 - dense_2_acc_5: 0.0514 - dense_2_acc_6: 0.0103 - dense_2_acc_7: 0.7866 - dense_2_acc_8: 0.1357 - dense_2_acc_9: 0.06 - ETA: 28s - loss: 20.3854 - dense_2_loss: 2.7759 - dense_2_acc: 0.1311 - dense_2_acc_1: 0.4664 - dense_2_acc_2: 0.2261 - dense_2_acc_3: 0.0497 - dense_2_acc_4: 0.8933 - dense_2_acc_5: 0.0500 - dense_2_acc_6: 0.0114 - dense_2_acc_7: 0.7831 - dense_2_acc_8: 0.1397 - dense_2_acc_9: 0.06 - ETA: 27s - loss: 20.3029 - dense_2_loss: 2.7710 - dense_2_acc: 0.1432 - dense_2_acc_1: 0.4722 - dense_2_acc_2: 0.2308 - dense_2_acc_3: 0.0519 - dense_2_acc_4: 0.8962 - dense_2_acc_5: 0.0486 - dense_2_acc_6: 0.0111 - dense_2_acc_7: 0.7846 - dense_2_acc_8: 0.1411 - dense_2_acc_9: 0.07 - ETA: 26s - loss: 20.2246 - dense_2_loss: 2.7744 - dense_2_acc: 0.1574 - dense_2_acc_1: 0.4811 - dense_2_acc_2: 0.2337 - dense_2_acc_3: 0.0521 - dense_2_acc_4: 0.8989 - dense_2_acc_5: 0.0474 - dense_2_acc_6: 0.0132 - dense_2_acc_7: 0.7797 - dense_2_acc_8: 0.1487 - dense_2_acc_9: 0.07 - ETA: 26s - loss: 20.1445 - dense_2_loss: 2.7684 - dense_2_acc: 0.1692 - dense_2_acc_1: 0.4903 - dense_2_acc_2: 0.2374 - dense_2_acc_3: 0.0508 - dense_2_acc_4: 0.9015 - dense_2_acc_5: 0.0462 - dense_2_acc_6: 0.0131 - dense_2_acc_7: 0.7790 - dense_2_acc_8: 0.1559 - dense_2_acc_9: 0.07 - ETA: 25s - loss: 20.0703 - dense_2_loss: 2.7697 - dense_2_acc: 0.1807 - dense_2_acc_1: 0.4972 - dense_2_acc_2: 0.2410 - dense_2_acc_3: 0.0522 - dense_2_acc_4: 0.9040 - dense_2_acc_5: 0.0450 - dense_2_acc_6: 0.0127 - dense_2_acc_7: 0.7838 - dense_2_acc_8: 0.1550 - dense_2_acc_9: 0.07 - ETA: 24s - loss: 20.0012 - dense_2_loss: 2.7724 - dense_2_acc: 0.1920 - dense_2_acc_1: 0.5056 - dense_2_acc_2: 0.2432 - dense_2_acc_3: 0.0522 - dense_2_acc_4: 0.9063 - dense_2_acc_5: 0.0461 - dense_2_acc_6: 0.0124 - dense_2_acc_7: 0.7859 - dense_2_acc_8: 0.1544 - dense_2_acc_9: 0.07 - ETA: 24s - loss: 19.9225 - dense_2_loss: 2.7730 - dense_2_acc: 0.2012 - dense_2_acc_1: 0.5140 - dense_2_acc_2: 0.2481 - dense_2_acc_3: 0.0510 - dense_2_acc_4: 0.9086 - dense_2_acc_5: 0.0550 - dense_2_acc_6: 0.0133 - dense_2_acc_7: 0.7840 - dense_2_acc_8: 0.1564 - dense_2_acc_9: 0.07 - ETA: 23s - loss: 19.8508 - dense_2_loss: 2.7751 - dense_2_acc: 0.2098 - dense_2_acc_1: 0.5188 - dense_2_acc_2: 0.2502 - dense_2_acc_3: 0.0509 - dense_2_acc_4: 0.9107 - dense_2_acc_5: 0.0649 - dense_2_acc_6: 0.0149 - dense_2_acc_7: 0.7809 - dense_2_acc_8: 0.1598 - dense_2_acc_9: 0.07 - ETA: 22s - loss: 19.7663 - dense_2_loss: 2.7723 - dense_2_acc: 0.2236 - dense_2_acc_1: 0.5268 - dense_2_acc_2: 0.2534 - dense_2_acc_3: 0.0507 - dense_2_acc_4: 0.9127 - dense_2_acc_5: 0.0693 - dense_2_acc_6: 0.0159 - dense_2_acc_7: 0.7843 - dense_2_acc_8: 0.1623 - dense_2_acc_9: 0.07 - ETA: 22s - loss: 19.6840 - dense_2_loss: 2.7684 - dense_2_acc: 0.2373 - dense_2_acc_1: 0.5360 - dense_2_acc_2: 0.2553 - dense_2_acc_3: 0.0509 - dense_2_acc_4: 0.9136 - dense_2_acc_5: 0.0791 - dense_2_acc_6: 0.0167 - dense_2_acc_7: 0.7887 - dense_2_acc_8: 0.1618 - dense_2_acc_9: 0.07 - ETA: 21s - loss: 19.5938 - dense_2_loss: 2.7634 - dense_2_acc: 0.2467 - dense_2_acc_1: 0.5428 - dense_2_acc_2: 0.2587 - dense_2_acc_3: 0.0507 - dense_2_acc_4: 0.9154 - dense_2_acc_5: 0.0941 - dense_2_acc_6: 0.0187 - dense_2_acc_7: 0.7898 - dense_2_acc_8: 0.1654 - dense_2_acc_9: 0.08 - ETA: 20s - loss: 19.4978 - dense_2_loss: 2.7562 - dense_2_acc: 0.2585 - dense_2_acc_1: 0.5513 - dense_2_acc_2: 0.2626 - dense_2_acc_3: 0.0496 - dense_2_acc_4: 0.9172 - dense_2_acc_5: 0.1100 - dense_2_acc_6: 0.0189 - dense_2_acc_7: 0.7934 - dense_2_acc_8: 0.1698 - dense_2_acc_9: 0.08 - ETA: 20s - loss: 19.3949 - dense_2_loss: 2.7488 - dense_2_acc: 0.2719 - dense_2_acc_1: 0.5598 - dense_2_acc_2: 0.2669 - dense_2_acc_3: 0.0490 - dense_2_acc_4: 0.9190 - dense_2_acc_5: 0.1244 - dense_2_acc_6: 0.0200 - dense_2_acc_7: 0.7977 - dense_2_acc_8: 0.1698 - dense_2_acc_9: 0.08 - ETA: 19s - loss: 19.2982 - dense_2_loss: 2.7470 - dense_2_acc: 0.2806 - dense_2_acc_1: 0.5645 - dense_2_acc_2: 0.2667 - dense_2_acc_3: 0.0480 - dense_2_acc_4: 0.9206 - dense_2_acc_5: 0.1400 - dense_2_acc_6: 0.0200 - dense_2_acc_7: 0.8018 - dense_2_acc_8: 0.1747 - dense_2_acc_9: 0.08 - ETA: 19s - loss: 19.1799 - dense_2_loss: 2.7415 - dense_2_acc: 0.2918 - dense_2_acc_1: 0.5710 - dense_2_acc_2: 0.2694 - dense_2_acc_3: 0.0490 - dense_2_acc_4: 0.9222 - dense_2_acc_5: 0.1550 - dense_2_acc_6: 0.0204 - dense_2_acc_7: 0.8058 - dense_2_acc_8: 0.1802 - dense_2_acc_9: 0.08 - ETA: 18s - loss: 19.0684 - dense_2_loss: 2.7340 - dense_2_acc: 0.3045 - dense_2_acc_1: 0.5784 - dense_2_acc_2: 0.2724 - dense_2_acc_3: 0.0482 - dense_2_acc_4: 0.9237 - dense_2_acc_5: 0.1675 - dense_2_acc_6: 0.0200 - dense_2_acc_7: 0.8096 - dense_2_acc_8: 0.1829 - dense_2_acc_9: 0.08 - ETA: 18s - loss: 18.9497 - dense_2_loss: 2.7267 - dense_2_acc: 0.3171 - dense_2_acc_1: 0.5858 - dense_2_acc_2: 0.2744 - dense_2_acc_3: 0.0504 - dense_2_acc_4: 0.9252 - dense_2_acc_5: 0.1790 - dense_2_acc_6: 0.0212 - dense_2_acc_7: 0.8133 - dense_2_acc_8: 0.1888 - dense_2_acc_9: 0.08 - ETA: 17s - loss: 18.8273 - dense_2_loss: 2.7197 - dense_2_acc: 0.3279 - dense_2_acc_1: 0.5919 - dense_2_acc_2: 0.2758 - dense_2_acc_3: 0.0504 - dense_2_acc_4: 0.9266 - dense_2_acc_5: 0.1911 - dense_2_acc_6: 0.0208 - dense_2_acc_7: 0.8168 - dense_2_acc_8: 0.1928 - dense_2_acc_9: 0.09 - ETA: 17s - loss: 18.7044 - dense_2_loss: 2.7147 - dense_2_acc: 0.3385 - dense_2_acc_1: 0.5983 - dense_2_acc_2: 0.2781 - dense_2_acc_3: 0.0519 - dense_2_acc_4: 0.9280 - dense_2_acc_5: 0.2020 - dense_2_acc_6: 0.0230 - dense_2_acc_7: 0.8202 - dense_2_acc_8: 0.1974 - dense_2_acc_9: 0.09 - ETA: 16s - loss: 18.5753 - dense_2_loss: 2.7074 - dense_2_acc: 0.3493 - dense_2_acc_1: 0.6045 - dense_2_acc_2: 0.2818 - dense_2_acc_3: 0.0549 - dense_2_acc_4: 0.9293 - dense_2_acc_5: 0.2131 - dense_2_acc_6: 0.0253 - dense_2_acc_7: 0.8235 - dense_2_acc_8: 0.2016 - dense_2_acc_9: 0.09 - ETA: 16s - loss: 18.4585 - dense_2_loss: 2.7012 - dense_2_acc: 0.3584 - dense_2_acc_1: 0.6107 - dense_2_acc_2: 0.2852 - dense_2_acc_3: 0.0541 - dense_2_acc_4: 0.9305 - dense_2_acc_5: 0.2221 - dense_2_acc_6: 0.0268 - dense_2_acc_7: 0.8266 - dense_2_acc_8: 0.2063 - dense_2_acc_9: 0.09 - ETA: 15s - loss: 18.3346 - dense_2_loss: 2.6937 - dense_2_acc: 0.3682 - dense_2_acc_1: 0.6163 - dense_2_acc_2: 0.2882 - dense_2_acc_3: 0.0554 - dense_2_acc_4: 0.9318 - dense_2_acc_5: 0.2318 - dense_2_acc_6: 0.0289 - dense_2_acc_7: 0.8296 - dense_2_acc_8: 0.2088 - dense_2_acc_9: 0.09 - ETA: 15s - loss: 18.2189 - dense_2_loss: 2.6883 - dense_2_acc: 0.3783 - dense_2_acc_1: 0.6226 - dense_2_acc_2: 0.2903 - dense_2_acc_3: 0.0569 - dense_2_acc_4: 0.9329 - dense_2_acc_5: 0.2395 - dense_2_acc_6: 0.0316 - dense_2_acc_7: 0.8326 - dense_2_acc_8: 0.2109 - dense_2_acc_9: 0.0972"
     ]
    },
    {
     "name": "stdout",
     "output_type": "stream",
     "text": [
      " 8700/10000 [=========================>....] - ETA: 14s - loss: 18.1003 - dense_2_loss: 2.6816 - dense_2_acc: 0.3873 - dense_2_acc_1: 0.6276 - dense_2_acc_2: 0.2927 - dense_2_acc_3: 0.0569 - dense_2_acc_4: 0.9341 - dense_2_acc_5: 0.2486 - dense_2_acc_6: 0.0351 - dense_2_acc_7: 0.8354 - dense_2_acc_8: 0.2151 - dense_2_acc_9: 0.09 - ETA: 14s - loss: 17.9817 - dense_2_loss: 2.6743 - dense_2_acc: 0.3970 - dense_2_acc_1: 0.6332 - dense_2_acc_2: 0.2960 - dense_2_acc_3: 0.0568 - dense_2_acc_4: 0.9352 - dense_2_acc_5: 0.2573 - dense_2_acc_6: 0.0387 - dense_2_acc_7: 0.8382 - dense_2_acc_8: 0.2177 - dense_2_acc_9: 0.09 - ETA: 13s - loss: 17.8629 - dense_2_loss: 2.6662 - dense_2_acc: 0.4052 - dense_2_acc_1: 0.6377 - dense_2_acc_2: 0.2989 - dense_2_acc_3: 0.0580 - dense_2_acc_4: 0.9362 - dense_2_acc_5: 0.2656 - dense_2_acc_6: 0.0410 - dense_2_acc_7: 0.8408 - dense_2_acc_8: 0.2218 - dense_2_acc_9: 0.10 - ETA: 13s - loss: 17.7569 - dense_2_loss: 2.6607 - dense_2_acc: 0.4135 - dense_2_acc_1: 0.6423 - dense_2_acc_2: 0.3005 - dense_2_acc_3: 0.0585 - dense_2_acc_4: 0.9373 - dense_2_acc_5: 0.2727 - dense_2_acc_6: 0.0427 - dense_2_acc_7: 0.8429 - dense_2_acc_8: 0.2261 - dense_2_acc_9: 0.10 - ETA: 12s - loss: 17.6480 - dense_2_loss: 2.6531 - dense_2_acc: 0.4190 - dense_2_acc_1: 0.6457 - dense_2_acc_2: 0.3024 - dense_2_acc_3: 0.0590 - dense_2_acc_4: 0.9383 - dense_2_acc_5: 0.2808 - dense_2_acc_6: 0.0446 - dense_2_acc_7: 0.8454 - dense_2_acc_8: 0.2289 - dense_2_acc_9: 0.10 - ETA: 12s - loss: 17.5394 - dense_2_loss: 2.6462 - dense_2_acc: 0.4262 - dense_2_acc_1: 0.6498 - dense_2_acc_2: 0.3055 - dense_2_acc_3: 0.0584 - dense_2_acc_4: 0.9392 - dense_2_acc_5: 0.2894 - dense_2_acc_6: 0.0461 - dense_2_acc_7: 0.8478 - dense_2_acc_8: 0.2331 - dense_2_acc_9: 0.10 - ETA: 11s - loss: 17.4337 - dense_2_loss: 2.6389 - dense_2_acc: 0.4322 - dense_2_acc_1: 0.6532 - dense_2_acc_2: 0.3098 - dense_2_acc_3: 0.0586 - dense_2_acc_4: 0.9402 - dense_2_acc_5: 0.2980 - dense_2_acc_6: 0.0494 - dense_2_acc_7: 0.8502 - dense_2_acc_8: 0.2369 - dense_2_acc_9: 0.10 - ETA: 11s - loss: 17.3292 - dense_2_loss: 2.6341 - dense_2_acc: 0.4391 - dense_2_acc_1: 0.6574 - dense_2_acc_2: 0.3133 - dense_2_acc_3: 0.0592 - dense_2_acc_4: 0.9411 - dense_2_acc_5: 0.3073 - dense_2_acc_6: 0.0517 - dense_2_acc_7: 0.8524 - dense_2_acc_8: 0.2408 - dense_2_acc_9: 0.10 - ETA: 11s - loss: 17.2218 - dense_2_loss: 2.6274 - dense_2_acc: 0.4472 - dense_2_acc_1: 0.6616 - dense_2_acc_2: 0.3151 - dense_2_acc_3: 0.0612 - dense_2_acc_4: 0.9419 - dense_2_acc_5: 0.3155 - dense_2_acc_6: 0.0545 - dense_2_acc_7: 0.8546 - dense_2_acc_8: 0.2427 - dense_2_acc_9: 0.10 - ETA: 10s - loss: 17.1211 - dense_2_loss: 2.6218 - dense_2_acc: 0.4541 - dense_2_acc_1: 0.6660 - dense_2_acc_2: 0.3175 - dense_2_acc_3: 0.0625 - dense_2_acc_4: 0.9428 - dense_2_acc_5: 0.3226 - dense_2_acc_6: 0.0571 - dense_2_acc_7: 0.8568 - dense_2_acc_8: 0.2449 - dense_2_acc_9: 0.10 - ETA: 10s - loss: 17.0185 - dense_2_loss: 2.6163 - dense_2_acc: 0.4610 - dense_2_acc_1: 0.6706 - dense_2_acc_2: 0.3207 - dense_2_acc_3: 0.0645 - dense_2_acc_4: 0.9436 - dense_2_acc_5: 0.3291 - dense_2_acc_6: 0.0600 - dense_2_acc_7: 0.8588 - dense_2_acc_8: 0.2461 - dense_2_acc_9: 0.10 - ETA: 9s - loss: 16.9199 - dense_2_loss: 2.6090 - dense_2_acc: 0.4677 - dense_2_acc_1: 0.6746 - dense_2_acc_2: 0.3214 - dense_2_acc_3: 0.0664 - dense_2_acc_4: 0.9444 - dense_2_acc_5: 0.3374 - dense_2_acc_6: 0.0630 - dense_2_acc_7: 0.8609 - dense_2_acc_8: 0.2481 - dense_2_acc_9: 0.1100 - ETA: 9s - loss: 16.8261 - dense_2_loss: 2.6035 - dense_2_acc: 0.4745 - dense_2_acc_1: 0.6786 - dense_2_acc_2: 0.3237 - dense_2_acc_3: 0.0677 - dense_2_acc_4: 0.9452 - dense_2_acc_5: 0.3437 - dense_2_acc_6: 0.0659 - dense_2_acc_7: 0.8628 - dense_2_acc_8: 0.2493 - dense_2_acc_9: 0.111 - ETA: 9s - loss: 16.7368 - dense_2_loss: 2.5988 - dense_2_acc: 0.4804 - dense_2_acc_1: 0.6821 - dense_2_acc_2: 0.3265 - dense_2_acc_3: 0.0690 - dense_2_acc_4: 0.9460 - dense_2_acc_5: 0.3504 - dense_2_acc_6: 0.0683 - dense_2_acc_7: 0.8647 - dense_2_acc_8: 0.2501 - dense_2_acc_9: 0.111 - ETA: 8s - loss: 16.6388 - dense_2_loss: 2.5926 - dense_2_acc: 0.4867 - dense_2_acc_1: 0.6858 - dense_2_acc_2: 0.3300 - dense_2_acc_3: 0.0704 - dense_2_acc_4: 0.9467 - dense_2_acc_5: 0.3567 - dense_2_acc_6: 0.0712 - dense_2_acc_7: 0.8666 - dense_2_acc_8: 0.2527 - dense_2_acc_9: 0.112 - ETA: 8s - loss: 16.5393 - dense_2_loss: 2.5864 - dense_2_acc: 0.4932 - dense_2_acc_1: 0.6895 - dense_2_acc_2: 0.3336 - dense_2_acc_3: 0.0712 - dense_2_acc_4: 0.9474 - dense_2_acc_5: 0.3628 - dense_2_acc_6: 0.0743 - dense_2_acc_7: 0.8684 - dense_2_acc_8: 0.2565 - dense_2_acc_9: 0.113 - ETA: 8s - loss: 16.4516 - dense_2_loss: 2.5814 - dense_2_acc: 0.4993 - dense_2_acc_1: 0.6932 - dense_2_acc_2: 0.3379 - dense_2_acc_3: 0.0723 - dense_2_acc_4: 0.9481 - dense_2_acc_5: 0.3675 - dense_2_acc_6: 0.0759 - dense_2_acc_7: 0.8701 - dense_2_acc_8: 0.2567 - dense_2_acc_9: 0.114 - ETA: 7s - loss: 16.3641 - dense_2_loss: 2.5766 - dense_2_acc: 0.5055 - dense_2_acc_1: 0.6966 - dense_2_acc_2: 0.3396 - dense_2_acc_3: 0.0733 - dense_2_acc_4: 0.9488 - dense_2_acc_5: 0.3741 - dense_2_acc_6: 0.0779 - dense_2_acc_7: 0.8718 - dense_2_acc_8: 0.2586 - dense_2_acc_9: 0.115 - ETA: 7s - loss: 16.2724 - dense_2_loss: 2.5721 - dense_2_acc: 0.5116 - dense_2_acc_1: 0.7005 - dense_2_acc_2: 0.3429 - dense_2_acc_3: 0.0752 - dense_2_acc_4: 0.9495 - dense_2_acc_5: 0.3808 - dense_2_acc_6: 0.0810 - dense_2_acc_7: 0.8735 - dense_2_acc_8: 0.2616 - dense_2_acc_9: 0.116 - ETA: 7s - loss: 16.1882 - dense_2_loss: 2.5664 - dense_2_acc: 0.5163 - dense_2_acc_1: 0.7032 - dense_2_acc_2: 0.3442 - dense_2_acc_3: 0.0764 - dense_2_acc_4: 0.9501 - dense_2_acc_5: 0.3877 - dense_2_acc_6: 0.0837 - dense_2_acc_7: 0.8751 - dense_2_acc_8: 0.2629 - dense_2_acc_9: 0.118 - ETA: 6s - loss: 16.1051 - dense_2_loss: 2.5603 - dense_2_acc: 0.5213 - dense_2_acc_1: 0.7061 - dense_2_acc_2: 0.3456 - dense_2_acc_3: 0.0766 - dense_2_acc_4: 0.9508 - dense_2_acc_5: 0.3939 - dense_2_acc_6: 0.0846 - dense_2_acc_7: 0.8767 - dense_2_acc_8: 0.2658 - dense_2_acc_9: 0.119 - ETA: 6s - loss: 16.0211 - dense_2_loss: 2.5537 - dense_2_acc: 0.5266 - dense_2_acc_1: 0.7093 - dense_2_acc_2: 0.3477 - dense_2_acc_3: 0.0774 - dense_2_acc_4: 0.9514 - dense_2_acc_5: 0.4001 - dense_2_acc_6: 0.0871 - dense_2_acc_7: 0.8783 - dense_2_acc_8: 0.2681 - dense_2_acc_9: 0.121 - ETA: 6s - loss: 15.9390 - dense_2_loss: 2.5480 - dense_2_acc: 0.5321 - dense_2_acc_1: 0.7127 - dense_2_acc_2: 0.3495 - dense_2_acc_3: 0.0790 - dense_2_acc_4: 0.9520 - dense_2_acc_5: 0.4054 - dense_2_acc_6: 0.0898 - dense_2_acc_7: 0.8798 - dense_2_acc_8: 0.2704 - dense_2_acc_9: 0.123 - ETA: 5s - loss: 15.8596 - dense_2_loss: 2.5431 - dense_2_acc: 0.5374 - dense_2_acc_1: 0.7159 - dense_2_acc_2: 0.3523 - dense_2_acc_3: 0.0805 - dense_2_acc_4: 0.9526 - dense_2_acc_5: 0.4112 - dense_2_acc_6: 0.0916 - dense_2_acc_7: 0.8812 - dense_2_acc_8: 0.2732 - dense_2_acc_9: 0.124 - ETA: 5s - loss: 15.7822 - dense_2_loss: 2.5389 - dense_2_acc: 0.5428 - dense_2_acc_1: 0.7190 - dense_2_acc_2: 0.3560 - dense_2_acc_3: 0.0814 - dense_2_acc_4: 0.9531 - dense_2_acc_5: 0.4157 - dense_2_acc_6: 0.0941 - dense_2_acc_7: 0.8827 - dense_2_acc_8: 0.2757 - dense_2_acc_9: 0.124 - ETA: 5s - loss: 15.7068 - dense_2_loss: 2.5340 - dense_2_acc: 0.5479 - dense_2_acc_1: 0.7219 - dense_2_acc_2: 0.3580 - dense_2_acc_3: 0.0825 - dense_2_acc_4: 0.9537 - dense_2_acc_5: 0.4208 - dense_2_acc_6: 0.0958 - dense_2_acc_7: 0.8840 - dense_2_acc_8: 0.2773 - dense_2_acc_9: 0.126 - ETA: 4s - loss: 15.6304 - dense_2_loss: 2.5291 - dense_2_acc: 0.5526 - dense_2_acc_1: 0.7246 - dense_2_acc_2: 0.3598 - dense_2_acc_3: 0.0834 - dense_2_acc_4: 0.9542 - dense_2_acc_5: 0.4272 - dense_2_acc_6: 0.0979 - dense_2_acc_7: 0.8854 - dense_2_acc_8: 0.2792 - dense_2_acc_9: 0.128 - ETA: 4s - loss: 15.5540 - dense_2_loss: 2.5257 - dense_2_acc: 0.5574 - dense_2_acc_1: 0.7274 - dense_2_acc_2: 0.3623 - dense_2_acc_3: 0.0847 - dense_2_acc_4: 0.9548 - dense_2_acc_5: 0.4327 - dense_2_acc_6: 0.0998 - dense_2_acc_7: 0.8867 - dense_2_acc_8: 0.2819 - dense_2_acc_9: 0.128 - ETA: 4s - loss: 15.4806 - dense_2_loss: 2.5215 - dense_2_acc: 0.5623 - dense_2_acc_1: 0.7303 - dense_2_acc_2: 0.3646 - dense_2_acc_3: 0.0859 - dense_2_acc_4: 0.9553 - dense_2_acc_5: 0.4380 - dense_2_acc_6: 0.1017 - dense_2_acc_7: 0.8880 - dense_2_acc_8: 0.2843 - dense_2_acc_9: 0.1287"
     ]
    },
    {
     "name": "stdout",
     "output_type": "stream",
     "text": [
      "10000/10000 [==============================] - ETA: 3s - loss: 15.4078 - dense_2_loss: 2.5164 - dense_2_acc: 0.5668 - dense_2_acc_1: 0.7328 - dense_2_acc_2: 0.3662 - dense_2_acc_3: 0.0873 - dense_2_acc_4: 0.9558 - dense_2_acc_5: 0.4433 - dense_2_acc_6: 0.1035 - dense_2_acc_7: 0.8893 - dense_2_acc_8: 0.2875 - dense_2_acc_9: 0.130 - ETA: 3s - loss: 15.3367 - dense_2_loss: 2.5124 - dense_2_acc: 0.5715 - dense_2_acc_1: 0.7356 - dense_2_acc_2: 0.3691 - dense_2_acc_3: 0.0880 - dense_2_acc_4: 0.9563 - dense_2_acc_5: 0.4485 - dense_2_acc_6: 0.1060 - dense_2_acc_7: 0.8906 - dense_2_acc_8: 0.2893 - dense_2_acc_9: 0.130 - ETA: 3s - loss: 15.2678 - dense_2_loss: 2.5075 - dense_2_acc: 0.5759 - dense_2_acc_1: 0.7382 - dense_2_acc_2: 0.3716 - dense_2_acc_3: 0.0897 - dense_2_acc_4: 0.9568 - dense_2_acc_5: 0.4530 - dense_2_acc_6: 0.1089 - dense_2_acc_7: 0.8918 - dense_2_acc_8: 0.2908 - dense_2_acc_9: 0.132 - ETA: 2s - loss: 15.1990 - dense_2_loss: 2.5029 - dense_2_acc: 0.5802 - dense_2_acc_1: 0.7408 - dense_2_acc_2: 0.3749 - dense_2_acc_3: 0.0908 - dense_2_acc_4: 0.9573 - dense_2_acc_5: 0.4581 - dense_2_acc_6: 0.1119 - dense_2_acc_7: 0.8930 - dense_2_acc_8: 0.2922 - dense_2_acc_9: 0.133 - ETA: 2s - loss: 15.1317 - dense_2_loss: 2.4980 - dense_2_acc: 0.5841 - dense_2_acc_1: 0.7428 - dense_2_acc_2: 0.3774 - dense_2_acc_3: 0.0917 - dense_2_acc_4: 0.9577 - dense_2_acc_5: 0.4629 - dense_2_acc_6: 0.1146 - dense_2_acc_7: 0.8941 - dense_2_acc_8: 0.2938 - dense_2_acc_9: 0.135 - ETA: 2s - loss: 15.0693 - dense_2_loss: 2.4946 - dense_2_acc: 0.5881 - dense_2_acc_1: 0.7451 - dense_2_acc_2: 0.3797 - dense_2_acc_3: 0.0928 - dense_2_acc_4: 0.9582 - dense_2_acc_5: 0.4670 - dense_2_acc_6: 0.1173 - dense_2_acc_7: 0.8953 - dense_2_acc_8: 0.2952 - dense_2_acc_9: 0.135 - ETA: 1s - loss: 15.0050 - dense_2_loss: 2.4896 - dense_2_acc: 0.5916 - dense_2_acc_1: 0.7468 - dense_2_acc_2: 0.3824 - dense_2_acc_3: 0.0937 - dense_2_acc_4: 0.9586 - dense_2_acc_5: 0.4709 - dense_2_acc_6: 0.1187 - dense_2_acc_7: 0.8964 - dense_2_acc_8: 0.2966 - dense_2_acc_9: 0.136 - ETA: 1s - loss: 14.9446 - dense_2_loss: 2.4857 - dense_2_acc: 0.5952 - dense_2_acc_1: 0.7488 - dense_2_acc_2: 0.3847 - dense_2_acc_3: 0.0944 - dense_2_acc_4: 0.9591 - dense_2_acc_5: 0.4752 - dense_2_acc_6: 0.1204 - dense_2_acc_7: 0.8975 - dense_2_acc_8: 0.2982 - dense_2_acc_9: 0.137 - ETA: 1s - loss: 14.8844 - dense_2_loss: 2.4805 - dense_2_acc: 0.5988 - dense_2_acc_1: 0.7508 - dense_2_acc_2: 0.3860 - dense_2_acc_3: 0.0962 - dense_2_acc_4: 0.9595 - dense_2_acc_5: 0.4794 - dense_2_acc_6: 0.1222 - dense_2_acc_7: 0.8985 - dense_2_acc_8: 0.2996 - dense_2_acc_9: 0.139 - ETA: 0s - loss: 14.8266 - dense_2_loss: 2.4775 - dense_2_acc: 0.6024 - dense_2_acc_1: 0.7529 - dense_2_acc_2: 0.3869 - dense_2_acc_3: 0.0978 - dense_2_acc_4: 0.9599 - dense_2_acc_5: 0.4833 - dense_2_acc_6: 0.1243 - dense_2_acc_7: 0.8996 - dense_2_acc_8: 0.3013 - dense_2_acc_9: 0.139 - ETA: 0s - loss: 14.7659 - dense_2_loss: 2.4726 - dense_2_acc: 0.6059 - dense_2_acc_1: 0.7549 - dense_2_acc_2: 0.3890 - dense_2_acc_3: 0.0985 - dense_2_acc_4: 0.9603 - dense_2_acc_5: 0.4872 - dense_2_acc_6: 0.1262 - dense_2_acc_7: 0.9006 - dense_2_acc_8: 0.3032 - dense_2_acc_9: 0.142 - ETA: 0s - loss: 14.7066 - dense_2_loss: 2.4697 - dense_2_acc: 0.6097 - dense_2_acc_1: 0.7572 - dense_2_acc_2: 0.3910 - dense_2_acc_3: 0.0998 - dense_2_acc_4: 0.9607 - dense_2_acc_5: 0.4908 - dense_2_acc_6: 0.1279 - dense_2_acc_7: 0.9016 - dense_2_acc_8: 0.3042 - dense_2_acc_9: 0.142 - 30s 3ms/step - loss: 14.6474 - dense_2_loss: 2.4658 - dense_2_acc: 0.6130 - dense_2_acc_1: 0.7590 - dense_2_acc_2: 0.3936 - dense_2_acc_3: 0.1011 - dense_2_acc_4: 0.9611 - dense_2_acc_5: 0.4955 - dense_2_acc_6: 0.1299 - dense_2_acc_7: 0.9026 - dense_2_acc_8: 0.3065 - dense_2_acc_9: 0.1431\n"
     ]
    },
    {
     "data": {
      "text/plain": [
       "<keras.callbacks.History at 0x1d4532ecb00>"
      ]
     },
     "execution_count": 21,
     "metadata": {},
     "output_type": "execute_result"
    }
   ],
   "source": [
    "model.fit([Xoh, s0, c0], outputs, epochs=1, batch_size=100)"
   ]
  },
  {
   "cell_type": "markdown",
   "metadata": {},
   "source": [
    "While training you can see the loss as well as the accuracy on each of the 10 positions of the output. The table below gives you an example of what the accuracies could be if the batch had 2 examples: \n",
    "\n",
    "<img src=\"images/table.png\" style=\"width:700;height:200px;\"> <br>\n",
    "<caption><center>Thus, `dense_2_acc_8: 0.89` means that you are predicting the 7th character of the output correctly 89% of the time in the current batch of data. </center></caption>\n",
    "\n",
    "\n",
    "We have run this model for longer, and saved the weights. Run the next cell to load our weights. (By training a model for several minutes, you should be able to obtain a model of similar accuracy, but loading our model will save you time.) "
   ]
  },
  {
   "cell_type": "code",
   "execution_count": null,
   "metadata": {},
   "outputs": [],
   "source": [
    "model.load_weights('models/model.h5')"
   ]
  },
  {
   "cell_type": "markdown",
   "metadata": {},
   "source": [
    "You can now see the results on new examples."
   ]
  },
  {
   "cell_type": "code",
   "execution_count": null,
   "metadata": {},
   "outputs": [],
   "source": [
    "EXAMPLES = ['3 May 1979', '5 April 09', '21th of August 2016', 'Tue 10 Jul 2007', 'Saturday May 9 2018', 'March 3 2001', 'March 3rd 2001', '1 March 2001']\n",
    "for example in EXAMPLES:\n",
    "    \n",
    "    source = string_to_int(example, Tx, human_vocab)\n",
    "    source = np.array(list(map(lambda x: to_categorical(x, num_classes=len(human_vocab)), source))).swapaxes(0,1)\n",
    "    prediction = model.predict([source, s0, c0])\n",
    "    prediction = np.argmax(prediction, axis = -1)\n",
    "    output = [inv_machine_vocab[int(i)] for i in prediction]\n",
    "    \n",
    "    print(\"source:\", example)\n",
    "    print(\"output:\", ''.join(output))"
   ]
  },
  {
   "cell_type": "markdown",
   "metadata": {},
   "source": [
    "You can also change these examples to test with your own examples. The next part will give you a better sense on what the attention mechanism is doing--i.e., what part of the input the network is paying attention to when generating a particular output character. "
   ]
  },
  {
   "cell_type": "markdown",
   "metadata": {},
   "source": [
    "## 3 - Visualizing Attention (Optional / Ungraded)\n",
    "\n",
    "Since the problem has a fixed output length of 10, it is also possible to carry out this task using 10 different softmax units to generate the 10 characters of the output. But one advantage of the attention model is that each part of the output (say the month) knows it needs to depend only on a small part of the input (the characters in the input giving the month). We can  visualize what part of the output is looking at what part of the input.\n",
    "\n",
    "Consider the task of translating \"Saturday 9 May 2018\" to \"2018-05-09\". If we visualize the computed $\\alpha^{\\langle t, t' \\rangle}$ we get this: \n",
    "\n",
    "<img src=\"images/date_attention.png\" style=\"width:600;height:300px;\"> <br>\n",
    "<caption><center> **Figure 8**: Full Attention Map</center></caption>\n",
    "\n",
    "Notice how the output ignores the \"Saturday\" portion of the input. None of the output timesteps are paying much attention to that portion of the input. We see also that 9 has been translated as 09 and May has been correctly translated into 05, with the output paying attention to the parts of the input it needs to to make the translation. The year mostly requires it to pay attention to the input's \"18\" in order to generate \"2018.\" \n",
    "\n"
   ]
  },
  {
   "cell_type": "markdown",
   "metadata": {},
   "source": [
    "### 3.1 - Getting the activations from the network\n",
    "\n",
    "Lets now visualize the attention values in your network. We'll propagate an example through the network, then visualize the values of $\\alpha^{\\langle t, t' \\rangle}$. \n",
    "\n",
    "To figure out where the attention values are located, let's start by printing a summary of the model ."
   ]
  },
  {
   "cell_type": "code",
   "execution_count": 30,
   "metadata": {},
   "outputs": [
    {
     "name": "stdout",
     "output_type": "stream",
     "text": [
      "__________________________________________________________________________________________________\n",
      "Layer (type)                    Output Shape         Param #     Connected to                     \n",
      "==================================================================================================\n",
      "input_1 (InputLayer)            (None, 30, 37)       0                                            \n",
      "__________________________________________________________________________________________________\n",
      "s0 (InputLayer)                 (None, 128)          0                                            \n",
      "__________________________________________________________________________________________________\n",
      "bidirectional_1 (Bidirectional) (None, 30, 128)      52224       input_1[0][0]                    \n",
      "__________________________________________________________________________________________________\n",
      "repeat_vector_1 (RepeatVector)  (None, 30, 128)      0           s0[0][0]                         \n",
      "                                                                 lstm_1[0][0]                     \n",
      "                                                                 lstm_1[1][0]                     \n",
      "                                                                 lstm_1[2][0]                     \n",
      "                                                                 lstm_1[3][0]                     \n",
      "                                                                 lstm_1[4][0]                     \n",
      "                                                                 lstm_1[5][0]                     \n",
      "                                                                 lstm_1[6][0]                     \n",
      "                                                                 lstm_1[7][0]                     \n",
      "                                                                 lstm_1[8][0]                     \n",
      "__________________________________________________________________________________________________\n",
      "concatenate_1 (Concatenate)     (None, 30, 256)      0           bidirectional_1[0][0]            \n",
      "                                                                 repeat_vector_1[0][0]            \n",
      "                                                                 bidirectional_1[0][0]            \n",
      "                                                                 repeat_vector_1[1][0]            \n",
      "                                                                 bidirectional_1[0][0]            \n",
      "                                                                 repeat_vector_1[2][0]            \n",
      "                                                                 bidirectional_1[0][0]            \n",
      "                                                                 repeat_vector_1[3][0]            \n",
      "                                                                 bidirectional_1[0][0]            \n",
      "                                                                 repeat_vector_1[4][0]            \n",
      "                                                                 bidirectional_1[0][0]            \n",
      "                                                                 repeat_vector_1[5][0]            \n",
      "                                                                 bidirectional_1[0][0]            \n",
      "                                                                 repeat_vector_1[6][0]            \n",
      "                                                                 bidirectional_1[0][0]            \n",
      "                                                                 repeat_vector_1[7][0]            \n",
      "                                                                 bidirectional_1[0][0]            \n",
      "                                                                 repeat_vector_1[8][0]            \n",
      "                                                                 bidirectional_1[0][0]            \n",
      "                                                                 repeat_vector_1[9][0]            \n",
      "__________________________________________________________________________________________________\n",
      "dense_1 (Dense)                 (None, 30, 1)        257         concatenate_1[0][0]              \n",
      "                                                                 concatenate_1[1][0]              \n",
      "                                                                 concatenate_1[2][0]              \n",
      "                                                                 concatenate_1[3][0]              \n",
      "                                                                 concatenate_1[4][0]              \n",
      "                                                                 concatenate_1[5][0]              \n",
      "                                                                 concatenate_1[6][0]              \n",
      "                                                                 concatenate_1[7][0]              \n",
      "                                                                 concatenate_1[8][0]              \n",
      "                                                                 concatenate_1[9][0]              \n",
      "__________________________________________________________________________________________________\n",
      "attention_weights (Activation)  (None, 30, 1)        0           dense_1[0][0]                    \n",
      "                                                                 dense_1[1][0]                    \n",
      "                                                                 dense_1[2][0]                    \n",
      "                                                                 dense_1[3][0]                    \n",
      "                                                                 dense_1[4][0]                    \n",
      "                                                                 dense_1[5][0]                    \n",
      "                                                                 dense_1[6][0]                    \n",
      "                                                                 dense_1[7][0]                    \n",
      "                                                                 dense_1[8][0]                    \n",
      "                                                                 dense_1[9][0]                    \n",
      "__________________________________________________________________________________________________\n",
      "dot_1 (Dot)                     (None, 1, 128)       0           attention_weights[0][0]          \n",
      "                                                                 bidirectional_1[0][0]            \n",
      "                                                                 attention_weights[1][0]          \n",
      "                                                                 bidirectional_1[0][0]            \n",
      "                                                                 attention_weights[2][0]          \n",
      "                                                                 bidirectional_1[0][0]            \n",
      "                                                                 attention_weights[3][0]          \n",
      "                                                                 bidirectional_1[0][0]            \n",
      "                                                                 attention_weights[4][0]          \n",
      "                                                                 bidirectional_1[0][0]            \n",
      "                                                                 attention_weights[5][0]          \n",
      "                                                                 bidirectional_1[0][0]            \n",
      "                                                                 attention_weights[6][0]          \n",
      "                                                                 bidirectional_1[0][0]            \n",
      "                                                                 attention_weights[7][0]          \n",
      "                                                                 bidirectional_1[0][0]            \n",
      "                                                                 attention_weights[8][0]          \n",
      "                                                                 bidirectional_1[0][0]            \n",
      "                                                                 attention_weights[9][0]          \n",
      "                                                                 bidirectional_1[0][0]            \n",
      "__________________________________________________________________________________________________\n",
      "c0 (InputLayer)                 (None, 128)          0                                            \n",
      "__________________________________________________________________________________________________\n",
      "lstm_1 (LSTM)                   [(None, 128), (None, 131584      dot_1[0][0]                      \n",
      "                                                                 s0[0][0]                         \n",
      "                                                                 c0[0][0]                         \n",
      "                                                                 dot_1[1][0]                      \n",
      "                                                                 lstm_1[0][0]                     \n",
      "                                                                 lstm_1[0][2]                     \n",
      "                                                                 dot_1[2][0]                      \n",
      "                                                                 lstm_1[1][0]                     \n",
      "                                                                 lstm_1[1][2]                     \n",
      "                                                                 dot_1[3][0]                      \n",
      "                                                                 lstm_1[2][0]                     \n",
      "                                                                 lstm_1[2][2]                     \n",
      "                                                                 dot_1[4][0]                      \n",
      "                                                                 lstm_1[3][0]                     \n",
      "                                                                 lstm_1[3][2]                     \n",
      "                                                                 dot_1[5][0]                      \n",
      "                                                                 lstm_1[4][0]                     \n",
      "                                                                 lstm_1[4][2]                     \n",
      "                                                                 dot_1[6][0]                      \n",
      "                                                                 lstm_1[5][0]                     \n",
      "                                                                 lstm_1[5][2]                     \n",
      "                                                                 dot_1[7][0]                      \n",
      "                                                                 lstm_1[6][0]                     \n",
      "                                                                 lstm_1[6][2]                     \n",
      "                                                                 dot_1[8][0]                      \n",
      "                                                                 lstm_1[7][0]                     \n",
      "                                                                 lstm_1[7][2]                     \n",
      "                                                                 dot_1[9][0]                      \n",
      "                                                                 lstm_1[8][0]                     \n",
      "                                                                 lstm_1[8][2]                     \n",
      "__________________________________________________________________________________________________\n",
      "dense_2 (Dense)                 (None, 11)           1419        lstm_1[0][0]                     \n",
      "                                                                 lstm_1[1][0]                     \n",
      "                                                                 lstm_1[2][0]                     \n",
      "                                                                 lstm_1[3][0]                     \n",
      "                                                                 lstm_1[4][0]                     \n",
      "                                                                 lstm_1[5][0]                     \n",
      "                                                                 lstm_1[6][0]                     \n",
      "                                                                 lstm_1[7][0]                     \n",
      "                                                                 lstm_1[8][0]                     \n",
      "                                                                 lstm_1[9][0]                     \n",
      "==================================================================================================\n",
      "Total params: 185,484\n",
      "Trainable params: 185,484\n",
      "Non-trainable params: 0\n",
      "__________________________________________________________________________________________________\n"
     ]
    }
   ],
   "source": [
    "model.summary()"
   ]
  },
  {
   "cell_type": "markdown",
   "metadata": {},
   "source": [
    "Navigate through the output of `model.summary()` above. You can see that the layer named `attention_weights` outputs the `alphas` of shape (m, 30, 1) before `dot_2` computes the context vector for every time step $t = 0, \\ldots, T_y-1$. Lets get the activations from this layer.\n",
    "\n",
    "The function `attention_map()` pulls out the attention values from your model and plots them."
   ]
  },
  {
   "cell_type": "code",
   "execution_count": 31,
   "metadata": {
    "scrolled": false
   },
   "outputs": [
    {
     "data": {
      "text/plain": [
       "<Figure size 432x288 with 0 Axes>"
      ]
     },
     "metadata": {},
     "output_type": "display_data"
    },
    {
     "data": {
      "image/png": "[encoded data removed]",
      "text/plain": [
       "<Figure size 576x612 with 2 Axes>"
      ]
     },
     "metadata": {},
     "output_type": "display_data"
    }
   ],
   "source": [
    "attention_map = plot_attention_map(model, human_vocab, inv_machine_vocab, \"Tuesday April 08 1993\", num = 6, n_s = 128)"
   ]
  },
  {
   "cell_type": "markdown",
   "metadata": {},
   "source": [
    "On the generated plot you can observe the values of the attention weights for each character of the predicted output. Examine this plot and check that where the network is paying attention makes sense to you.\n",
    "\n",
    "In the date translation application, you will observe that most of the time attention helps predict the year, and hasn't much impact on predicting the day/month."
   ]
  },
  {
   "cell_type": "markdown",
   "metadata": {},
   "source": [
    "### Congratulations!\n",
    "\n",
    "\n",
    "You have come to the end of this assignment \n",
    "\n",
    "<font color='blue'> **Here's what you should remember from this notebook**:\n",
    "\n",
    "- Machine translation models can be used to map from one sequence to another. They are useful not just for translating human languages (like French->English) but also for tasks like date format translation. \n",
    "- An attention mechanism allows a network to focus on the most relevant parts of the input when producing a specific part of the output. \n",
    "- A network using an attention mechanism can translate from inputs of length $T_x$ to outputs of length $T_y$, where $T_x$ and $T_y$ can be different. \n",
    "- You can visualize attention weights $\\alpha^{\\langle t,t' \\rangle}$ to see what the network is paying attention to while generating each output."
   ]
  },
  {
   "cell_type": "markdown",
   "metadata": {},
   "source": [
    "Congratulations on finishing this assignment! You are now able to implement an attention model and use it to learn complex mappings from one sequence to another. "
   ]
  }
 ],
 "metadata": {
  "coursera": {
   "course_slug": "nlp-sequence-models",
   "graded_item_id": "n16CQ",
   "launcher_item_id": "npjGi"
  },
  "kernelspec": {
   "display_name": "Python 3",
   "language": "python",
   "name": "python3"
  },
  "language_info": {
   "codemirror_mode": {
    "name": "ipython",
    "version": 3
   },
   "file_extension": ".py",
   "mimetype": "text/x-python",
   "name": "python",
   "nbconvert_exporter": "python",
   "pygments_lexer": "ipython3",
   "version": "3.6.5"
  }
 },
 "nbformat": 4,
 "nbformat_minor": 2
}
